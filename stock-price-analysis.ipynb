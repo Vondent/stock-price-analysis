{
 "cells": [
  {
   "cell_type": "markdown",
   "id": "8a0e3e20-f3f1-40c3-b3b8-f9694eb048fa",
   "metadata": {},
   "source": [
    "# Stock Price Analysis and Comparison"
   ]
  },
  {
   "cell_type": "markdown",
   "id": "b5b8c450-109e-4aa7-857d-de3c13bab815",
   "metadata": {},
   "source": [
    "Vincent Luong\n",
    "\n",
    "Write brief introduction about time series analysis"
   ]
  },
  {
   "cell_type": "code",
   "execution_count": 37,
   "id": "5592b0a1-fa81-45c2-97f7-63fab2ebb341",
   "metadata": {},
   "outputs": [],
   "source": [
    "import numpy as np\n",
    "import pandas as pd\n",
    "from datetime import datetime as dt\n",
    "import matplotlib.pyplot as plt\n",
    "import matplotlib.dates as mdates\n",
    "import seaborn as sns\n",
    "%matplotlib inline"
   ]
  },
  {
   "cell_type": "markdown",
   "id": "9092deef-12e9-45d9-be22-f7d15bf2eb2d",
   "metadata": {},
   "source": [
    "## Importing Datasets and Summary Statistics"
   ]
  },
  {
   "cell_type": "markdown",
   "id": "032c6a35-5ad1-4a7c-b7ed-bdf6989f0db0",
   "metadata": {},
   "source": [
    "### Tesla"
   ]
  },
  {
   "cell_type": "code",
   "execution_count": 2,
   "id": "4c40083e-e683-4993-a843-dc7258ce679e",
   "metadata": {},
   "outputs": [
    {
     "data": {
      "text/html": [
       "<div>\n",
       "<style scoped>\n",
       "    .dataframe tbody tr th:only-of-type {\n",
       "        vertical-align: middle;\n",
       "    }\n",
       "\n",
       "    .dataframe tbody tr th {\n",
       "        vertical-align: top;\n",
       "    }\n",
       "\n",
       "    .dataframe thead th {\n",
       "        text-align: right;\n",
       "    }\n",
       "</style>\n",
       "<table border=\"1\" class=\"dataframe\">\n",
       "  <thead>\n",
       "    <tr style=\"text-align: right;\">\n",
       "      <th></th>\n",
       "      <th>Date</th>\n",
       "      <th>Open</th>\n",
       "      <th>High</th>\n",
       "      <th>Low</th>\n",
       "      <th>Close</th>\n",
       "      <th>Adj Close</th>\n",
       "      <th>Volume</th>\n",
       "    </tr>\n",
       "  </thead>\n",
       "  <tbody>\n",
       "    <tr>\n",
       "      <th>0</th>\n",
       "      <td>2010-06-29</td>\n",
       "      <td>3.800</td>\n",
       "      <td>5.000</td>\n",
       "      <td>3.508</td>\n",
       "      <td>4.778</td>\n",
       "      <td>4.778</td>\n",
       "      <td>93831500</td>\n",
       "    </tr>\n",
       "    <tr>\n",
       "      <th>1</th>\n",
       "      <td>2010-06-30</td>\n",
       "      <td>5.158</td>\n",
       "      <td>6.084</td>\n",
       "      <td>4.660</td>\n",
       "      <td>4.766</td>\n",
       "      <td>4.766</td>\n",
       "      <td>85935500</td>\n",
       "    </tr>\n",
       "    <tr>\n",
       "      <th>2</th>\n",
       "      <td>2010-07-01</td>\n",
       "      <td>5.000</td>\n",
       "      <td>5.184</td>\n",
       "      <td>4.054</td>\n",
       "      <td>4.392</td>\n",
       "      <td>4.392</td>\n",
       "      <td>41094000</td>\n",
       "    </tr>\n",
       "    <tr>\n",
       "      <th>3</th>\n",
       "      <td>2010-07-02</td>\n",
       "      <td>4.600</td>\n",
       "      <td>4.620</td>\n",
       "      <td>3.742</td>\n",
       "      <td>3.840</td>\n",
       "      <td>3.840</td>\n",
       "      <td>25699000</td>\n",
       "    </tr>\n",
       "    <tr>\n",
       "      <th>4</th>\n",
       "      <td>2010-07-06</td>\n",
       "      <td>4.000</td>\n",
       "      <td>4.000</td>\n",
       "      <td>3.166</td>\n",
       "      <td>3.222</td>\n",
       "      <td>3.222</td>\n",
       "      <td>34334500</td>\n",
       "    </tr>\n",
       "  </tbody>\n",
       "</table>\n",
       "</div>"
      ],
      "text/plain": [
       "         Date   Open   High    Low  Close  Adj Close    Volume\n",
       "0  2010-06-29  3.800  5.000  3.508  4.778      4.778  93831500\n",
       "1  2010-06-30  5.158  6.084  4.660  4.766      4.766  85935500\n",
       "2  2010-07-01  5.000  5.184  4.054  4.392      4.392  41094000\n",
       "3  2010-07-02  4.600  4.620  3.742  3.840      3.840  25699000\n",
       "4  2010-07-06  4.000  4.000  3.166  3.222      3.222  34334500"
      ]
     },
     "execution_count": 2,
     "metadata": {},
     "output_type": "execute_result"
    }
   ],
   "source": [
    "tesla_dat = pd.read_csv('data/tesla.csv')\n",
    "tesla_dat.head()"
   ]
  },
  {
   "cell_type": "markdown",
   "id": "7141ec24-aeb2-463b-8fd6-ad3b60e91dd1",
   "metadata": {},
   "source": [
    "From the tesla dataset, we have 7 features (1 categorical and 6 numerical):\n",
    "\n",
    "-`Date`: The date M/D/Y<br>\n",
    "-`Open`: The opening price of stock (in USD) <br>\n",
    "-`High`: The high price of that day (in USD) <br>\n",
    "-`Low`: The low price of that day (in USD) <br> \n",
    "-`Close`: The closed price of that day (in USD) <br>\n",
    "-`Volume`: The amount of stocks traded during that day <br>\n",
    "-`Adj Close`: The stock's closing price that has been amended to include any distributions/coporate actions that occurs before next days open (in USD) <br>"
   ]
  },
  {
   "cell_type": "code",
   "execution_count": 3,
   "id": "ff908985-c1a1-4fa9-be03-a036f4eaac1a",
   "metadata": {},
   "outputs": [
    {
     "data": {
      "text/plain": [
       "<bound method NDFrame.describe of             Date         Open         High         Low        Close  \\\n",
       "0     2010-06-29     3.800000     5.000000    3.508000     4.778000   \n",
       "1     2010-06-30     5.158000     6.084000    4.660000     4.766000   \n",
       "2     2010-07-01     5.000000     5.184000    4.054000     4.392000   \n",
       "3     2010-07-02     4.600000     4.620000    3.742000     3.840000   \n",
       "4     2010-07-06     4.000000     4.000000    3.166000     3.222000   \n",
       "...          ...          ...          ...         ...          ...   \n",
       "2951  2022-03-18   874.489990   907.849976  867.390015   905.390015   \n",
       "2952  2022-03-21   914.979980   942.849976  907.090027   921.159973   \n",
       "2953  2022-03-22   930.000000   997.859985  921.750000   993.979980   \n",
       "2954  2022-03-23   979.940002  1040.699951  976.400024   999.109985   \n",
       "2955  2022-03-24  1009.729980  1024.489990  988.799988  1013.919983   \n",
       "\n",
       "        Adj Close    Volume  \n",
       "0        4.778000  93831500  \n",
       "1        4.766000  85935500  \n",
       "2        4.392000  41094000  \n",
       "3        3.840000  25699000  \n",
       "4        3.222000  34334500  \n",
       "...           ...       ...  \n",
       "2951   905.390015  33408500  \n",
       "2952   921.159973  27327200  \n",
       "2953   993.979980  35289500  \n",
       "2954   999.109985  40225400  \n",
       "2955  1013.919983  22901900  \n",
       "\n",
       "[2956 rows x 7 columns]>"
      ]
     },
     "execution_count": 3,
     "metadata": {},
     "output_type": "execute_result"
    }
   ],
   "source": [
    "tesla_dat.describe"
   ]
  },
  {
   "cell_type": "code",
   "execution_count": 4,
   "id": "f3044a93-6d42-46d2-8371-9a8247b7aa3a",
   "metadata": {},
   "outputs": [
    {
     "data": {
      "text/plain": [
       "(2956, 7)"
      ]
     },
     "execution_count": 4,
     "metadata": {},
     "output_type": "execute_result"
    }
   ],
   "source": [
    "tesla_dat.shape"
   ]
  },
  {
   "cell_type": "code",
   "execution_count": 5,
   "id": "f99c3087-4fc8-42db-afd6-26d4e80f4881",
   "metadata": {},
   "outputs": [
    {
     "data": {
      "text/plain": [
       "'2010-06-29'"
      ]
     },
     "execution_count": 5,
     "metadata": {},
     "output_type": "execute_result"
    }
   ],
   "source": [
    "tesla_dat['Date'].min()"
   ]
  },
  {
   "cell_type": "code",
   "execution_count": 6,
   "id": "11fb3cdd-15af-4759-a221-c24c3ac76091",
   "metadata": {},
   "outputs": [
    {
     "data": {
      "text/plain": [
       "'2022-03-24'"
      ]
     },
     "execution_count": 6,
     "metadata": {},
     "output_type": "execute_result"
    }
   ],
   "source": [
    "tesla_dat['Date'].max()"
   ]
  },
  {
   "cell_type": "markdown",
   "id": "6e6276aa-5ec8-4ec8-8694-280cb56a3cf2",
   "metadata": {},
   "source": [
    "**Note**: Since the format is Y-M-D, it looks like the data ranges from the start of June 2010 to March 2022, for a total of 12 years."
   ]
  },
  {
   "cell_type": "markdown",
   "id": "cb63c39b-5b0e-4ea0-870d-e6a68441cd65",
   "metadata": {},
   "source": [
    "### S&P 500 "
   ]
  },
  {
   "cell_type": "code",
   "execution_count": 7,
   "id": "1248b5d5-0467-4892-a1c5-5d5c0487c4f8",
   "metadata": {},
   "outputs": [
    {
     "data": {
      "text/html": [
       "<div>\n",
       "<style scoped>\n",
       "    .dataframe tbody tr th:only-of-type {\n",
       "        vertical-align: middle;\n",
       "    }\n",
       "\n",
       "    .dataframe tbody tr th {\n",
       "        vertical-align: top;\n",
       "    }\n",
       "\n",
       "    .dataframe thead th {\n",
       "        text-align: right;\n",
       "    }\n",
       "</style>\n",
       "<table border=\"1\" class=\"dataframe\">\n",
       "  <thead>\n",
       "    <tr style=\"text-align: right;\">\n",
       "      <th></th>\n",
       "      <th>date</th>\n",
       "      <th>open</th>\n",
       "      <th>high</th>\n",
       "      <th>low</th>\n",
       "      <th>close</th>\n",
       "      <th>volume</th>\n",
       "      <th>Name</th>\n",
       "    </tr>\n",
       "  </thead>\n",
       "  <tbody>\n",
       "    <tr>\n",
       "      <th>0</th>\n",
       "      <td>2013-02-08</td>\n",
       "      <td>15.07</td>\n",
       "      <td>15.12</td>\n",
       "      <td>14.63</td>\n",
       "      <td>14.75</td>\n",
       "      <td>8407500</td>\n",
       "      <td>AAL</td>\n",
       "    </tr>\n",
       "    <tr>\n",
       "      <th>1</th>\n",
       "      <td>2013-02-11</td>\n",
       "      <td>14.89</td>\n",
       "      <td>15.01</td>\n",
       "      <td>14.26</td>\n",
       "      <td>14.46</td>\n",
       "      <td>8882000</td>\n",
       "      <td>AAL</td>\n",
       "    </tr>\n",
       "    <tr>\n",
       "      <th>2</th>\n",
       "      <td>2013-02-12</td>\n",
       "      <td>14.45</td>\n",
       "      <td>14.51</td>\n",
       "      <td>14.10</td>\n",
       "      <td>14.27</td>\n",
       "      <td>8126000</td>\n",
       "      <td>AAL</td>\n",
       "    </tr>\n",
       "    <tr>\n",
       "      <th>3</th>\n",
       "      <td>2013-02-13</td>\n",
       "      <td>14.30</td>\n",
       "      <td>14.94</td>\n",
       "      <td>14.25</td>\n",
       "      <td>14.66</td>\n",
       "      <td>10259500</td>\n",
       "      <td>AAL</td>\n",
       "    </tr>\n",
       "    <tr>\n",
       "      <th>4</th>\n",
       "      <td>2013-02-14</td>\n",
       "      <td>14.94</td>\n",
       "      <td>14.96</td>\n",
       "      <td>13.16</td>\n",
       "      <td>13.99</td>\n",
       "      <td>31879900</td>\n",
       "      <td>AAL</td>\n",
       "    </tr>\n",
       "  </tbody>\n",
       "</table>\n",
       "</div>"
      ],
      "text/plain": [
       "         date   open   high    low  close    volume Name\n",
       "0  2013-02-08  15.07  15.12  14.63  14.75   8407500  AAL\n",
       "1  2013-02-11  14.89  15.01  14.26  14.46   8882000  AAL\n",
       "2  2013-02-12  14.45  14.51  14.10  14.27   8126000  AAL\n",
       "3  2013-02-13  14.30  14.94  14.25  14.66  10259500  AAL\n",
       "4  2013-02-14  14.94  14.96  13.16  13.99  31879900  AAL"
      ]
     },
     "execution_count": 7,
     "metadata": {},
     "output_type": "execute_result"
    }
   ],
   "source": [
    "s500_dat = pd.read_csv('data/s500.csv')\n",
    "s500_dat.head()"
   ]
  },
  {
   "cell_type": "markdown",
   "id": "182d03dc-469e-4dbf-81d8-0d5ef18c2e87",
   "metadata": {},
   "source": [
    "From the S&P 500 dataset, we also have 7 features.  With 5 numerical features and 2 categorical features we have the following:\n",
    "\n",
    "-`date`: The date Y-M-D <br>\n",
    "-`open`: Price of the stock at market open (in USD) <br>\n",
    "-`high`: Highest price reached that day (in USD) <br>\n",
    "-`low`: lowest price reached in the day (in USD) <br>\n",
    "-`Volume`: Number of shares traded <br>\n",
    "-`Name`: The stock's ticker name"
   ]
  },
  {
   "cell_type": "code",
   "execution_count": 8,
   "id": "527f145b-4494-4add-aa09-220173d6f0b9",
   "metadata": {},
   "outputs": [
    {
     "data": {
      "text/plain": [
       "<bound method NDFrame.describe of               date   open   high    low  close    volume Name\n",
       "0       2013-02-08  15.07  15.12  14.63  14.75   8407500  AAL\n",
       "1       2013-02-11  14.89  15.01  14.26  14.46   8882000  AAL\n",
       "2       2013-02-12  14.45  14.51  14.10  14.27   8126000  AAL\n",
       "3       2013-02-13  14.30  14.94  14.25  14.66  10259500  AAL\n",
       "4       2013-02-14  14.94  14.96  13.16  13.99  31879900  AAL\n",
       "...            ...    ...    ...    ...    ...       ...  ...\n",
       "619035  2018-02-01  76.84  78.27  76.69  77.82   2982259  ZTS\n",
       "619036  2018-02-02  77.53  78.12  76.73  76.78   2595187  ZTS\n",
       "619037  2018-02-05  76.64  76.92  73.18  73.83   2962031  ZTS\n",
       "619038  2018-02-06  72.74  74.56  72.13  73.27   4924323  ZTS\n",
       "619039  2018-02-07  72.70  75.00  72.69  73.86   4534912  ZTS\n",
       "\n",
       "[619040 rows x 7 columns]>"
      ]
     },
     "execution_count": 8,
     "metadata": {},
     "output_type": "execute_result"
    }
   ],
   "source": [
    "s500_dat.describe"
   ]
  },
  {
   "cell_type": "code",
   "execution_count": 9,
   "id": "2a973e6d-3c70-4a66-89a4-1126263d5e9b",
   "metadata": {},
   "outputs": [],
   "source": [
    "#See if this dataset includes TSLA stocks\n",
    "\n",
    "#unique_count = s500_dat['Name'].unique()\n",
    "#for name in unique_count:\n",
    "#    print(name)\n",
    "\n",
    "\n",
    "#Code ran and it doesn't include Stocks from TSLA"
   ]
  },
  {
   "cell_type": "code",
   "execution_count": 10,
   "id": "ae20b486-f864-43bf-bae2-376ba65e2855",
   "metadata": {},
   "outputs": [
    {
     "data": {
      "text/plain": [
       "(619040, 7)"
      ]
     },
     "execution_count": 10,
     "metadata": {},
     "output_type": "execute_result"
    }
   ],
   "source": [
    "s500_dat.shape"
   ]
  },
  {
   "cell_type": "code",
   "execution_count": 11,
   "id": "50992a6c-63d4-47e8-978a-b17bc106ef76",
   "metadata": {},
   "outputs": [
    {
     "data": {
      "text/plain": [
       "'2013-02-08'"
      ]
     },
     "execution_count": 11,
     "metadata": {},
     "output_type": "execute_result"
    }
   ],
   "source": [
    "s500_dat['date'].min()"
   ]
  },
  {
   "cell_type": "code",
   "execution_count": 12,
   "id": "af7210a2-ce3d-457e-b379-8b1d8505361d",
   "metadata": {},
   "outputs": [
    {
     "data": {
      "text/plain": [
       "'2018-02-07'"
      ]
     },
     "execution_count": 12,
     "metadata": {},
     "output_type": "execute_result"
    }
   ],
   "source": [
    "s500_dat['date'].max()"
   ]
  },
  {
   "cell_type": "markdown",
   "id": "b06a493e-8f41-43ab-bae2-8685b28b84e3",
   "metadata": {},
   "source": [
    "**Note**: Since the format is Y/M/D, the data ranges from the start of Feburary 2013 to Feburary 2018, for a total of 5 years."
   ]
  },
  {
   "cell_type": "markdown",
   "id": "08538ab8-368f-4296-9fe7-577fede71d24",
   "metadata": {},
   "source": [
    "## Discovering Seperate Measurements"
   ]
  },
  {
   "cell_type": "markdown",
   "id": "048615ce-7fa9-4e04-a217-f227fca7e809",
   "metadata": {},
   "source": [
    "Since the Tesla dataset doesn't include any non-date categorical variables, we can ignore that and perform EDA on the S&P 500 dataset."
   ]
  },
  {
   "cell_type": "code",
   "execution_count": 13,
   "id": "f6280816-d315-41ba-a25f-9b72f1cd1579",
   "metadata": {},
   "outputs": [
    {
     "data": {
      "text/html": [
       "<div>\n",
       "<style scoped>\n",
       "    .dataframe tbody tr th:only-of-type {\n",
       "        vertical-align: middle;\n",
       "    }\n",
       "\n",
       "    .dataframe tbody tr th {\n",
       "        vertical-align: top;\n",
       "    }\n",
       "\n",
       "    .dataframe thead th {\n",
       "        text-align: right;\n",
       "    }\n",
       "</style>\n",
       "<table border=\"1\" class=\"dataframe\">\n",
       "  <thead>\n",
       "    <tr style=\"text-align: right;\">\n",
       "      <th></th>\n",
       "      <th>date</th>\n",
       "      <th>open</th>\n",
       "      <th>high</th>\n",
       "      <th>low</th>\n",
       "      <th>close</th>\n",
       "      <th>volume</th>\n",
       "      <th>Name</th>\n",
       "    </tr>\n",
       "  </thead>\n",
       "  <tbody>\n",
       "    <tr>\n",
       "      <th>0</th>\n",
       "      <td>2013-02-08</td>\n",
       "      <td>15.07</td>\n",
       "      <td>15.1200</td>\n",
       "      <td>14.630</td>\n",
       "      <td>14.75</td>\n",
       "      <td>8407500</td>\n",
       "      <td>AAL</td>\n",
       "    </tr>\n",
       "    <tr>\n",
       "      <th>508224</th>\n",
       "      <td>2013-02-08</td>\n",
       "      <td>81.22</td>\n",
       "      <td>81.9300</td>\n",
       "      <td>80.940</td>\n",
       "      <td>81.89</td>\n",
       "      <td>296853</td>\n",
       "      <td>SLG</td>\n",
       "    </tr>\n",
       "    <tr>\n",
       "      <th>506965</th>\n",
       "      <td>2013-02-08</td>\n",
       "      <td>78.24</td>\n",
       "      <td>79.0700</td>\n",
       "      <td>78.125</td>\n",
       "      <td>79.07</td>\n",
       "      <td>4632684</td>\n",
       "      <td>SLB</td>\n",
       "    </tr>\n",
       "    <tr>\n",
       "      <th>85755</th>\n",
       "      <td>2013-02-08</td>\n",
       "      <td>236.64</td>\n",
       "      <td>238.6924</td>\n",
       "      <td>235.750</td>\n",
       "      <td>238.16</td>\n",
       "      <td>552207</td>\n",
       "      <td>BLK</td>\n",
       "    </tr>\n",
       "    <tr>\n",
       "      <th>505706</th>\n",
       "      <td>2013-02-08</td>\n",
       "      <td>89.04</td>\n",
       "      <td>89.4800</td>\n",
       "      <td>88.910</td>\n",
       "      <td>89.16</td>\n",
       "      <td>554948</td>\n",
       "      <td>SJM</td>\n",
       "    </tr>\n",
       "  </tbody>\n",
       "</table>\n",
       "</div>"
      ],
      "text/plain": [
       "              date    open      high      low   close   volume Name\n",
       "0       2013-02-08   15.07   15.1200   14.630   14.75  8407500  AAL\n",
       "508224  2013-02-08   81.22   81.9300   80.940   81.89   296853  SLG\n",
       "506965  2013-02-08   78.24   79.0700   78.125   79.07  4632684  SLB\n",
       "85755   2013-02-08  236.64  238.6924  235.750  238.16   552207  BLK\n",
       "505706  2013-02-08   89.04   89.4800   88.910   89.16   554948  SJM"
      ]
     },
     "execution_count": 13,
     "metadata": {},
     "output_type": "execute_result"
    }
   ],
   "source": [
    "s500_dat.sort_values(by=\"date\").head()"
   ]
  },
  {
   "cell_type": "markdown",
   "id": "a6074ea6-5504-4e7f-8fcc-31e5d84fb1b9",
   "metadata": {},
   "source": [
    "From the above, we definitely see stock prices flucutating on the same date for different names, now lets group by names"
   ]
  },
  {
   "cell_type": "code",
   "execution_count": 14,
   "id": "23e29e36-012f-4a66-bf59-2806453c61d1",
   "metadata": {},
   "outputs": [
    {
     "data": {
      "text/html": [
       "<div>\n",
       "<style scoped>\n",
       "    .dataframe tbody tr th:only-of-type {\n",
       "        vertical-align: middle;\n",
       "    }\n",
       "\n",
       "    .dataframe tbody tr th {\n",
       "        vertical-align: top;\n",
       "    }\n",
       "\n",
       "    .dataframe thead th {\n",
       "        text-align: right;\n",
       "    }\n",
       "</style>\n",
       "<table border=\"1\" class=\"dataframe\">\n",
       "  <thead>\n",
       "    <tr style=\"text-align: right;\">\n",
       "      <th></th>\n",
       "      <th>date</th>\n",
       "      <th>open</th>\n",
       "      <th>high</th>\n",
       "      <th>low</th>\n",
       "      <th>close</th>\n",
       "      <th>volume</th>\n",
       "      <th>Name</th>\n",
       "    </tr>\n",
       "  </thead>\n",
       "  <tbody>\n",
       "    <tr>\n",
       "      <th>71611</th>\n",
       "      <td>2013-02-08</td>\n",
       "      <td>45.07</td>\n",
       "      <td>45.35</td>\n",
       "      <td>45.00</td>\n",
       "      <td>45.08</td>\n",
       "      <td>1824755</td>\n",
       "      <td>A</td>\n",
       "    </tr>\n",
       "    <tr>\n",
       "      <th>71612</th>\n",
       "      <td>2013-02-11</td>\n",
       "      <td>45.17</td>\n",
       "      <td>45.18</td>\n",
       "      <td>44.45</td>\n",
       "      <td>44.60</td>\n",
       "      <td>2915405</td>\n",
       "      <td>A</td>\n",
       "    </tr>\n",
       "    <tr>\n",
       "      <th>71613</th>\n",
       "      <td>2013-02-12</td>\n",
       "      <td>44.81</td>\n",
       "      <td>44.95</td>\n",
       "      <td>44.50</td>\n",
       "      <td>44.62</td>\n",
       "      <td>2373731</td>\n",
       "      <td>A</td>\n",
       "    </tr>\n",
       "    <tr>\n",
       "      <th>71614</th>\n",
       "      <td>2013-02-13</td>\n",
       "      <td>44.81</td>\n",
       "      <td>45.24</td>\n",
       "      <td>44.68</td>\n",
       "      <td>44.75</td>\n",
       "      <td>2052338</td>\n",
       "      <td>A</td>\n",
       "    </tr>\n",
       "    <tr>\n",
       "      <th>71615</th>\n",
       "      <td>2013-02-14</td>\n",
       "      <td>44.72</td>\n",
       "      <td>44.78</td>\n",
       "      <td>44.36</td>\n",
       "      <td>44.58</td>\n",
       "      <td>3826245</td>\n",
       "      <td>A</td>\n",
       "    </tr>\n",
       "  </tbody>\n",
       "</table>\n",
       "</div>"
      ],
      "text/plain": [
       "             date   open   high    low  close   volume Name\n",
       "71611  2013-02-08  45.07  45.35  45.00  45.08  1824755    A\n",
       "71612  2013-02-11  45.17  45.18  44.45  44.60  2915405    A\n",
       "71613  2013-02-12  44.81  44.95  44.50  44.62  2373731    A\n",
       "71614  2013-02-13  44.81  45.24  44.68  44.75  2052338    A\n",
       "71615  2013-02-14  44.72  44.78  44.36  44.58  3826245    A"
      ]
     },
     "execution_count": 14,
     "metadata": {},
     "output_type": "execute_result"
    }
   ],
   "source": [
    "s500_dat.sort_values(by=[\"Name\", \"date\"]).head()"
   ]
  },
  {
   "cell_type": "markdown",
   "id": "3c41f2ef-8b04-4230-8292-52cda7d61d81",
   "metadata": {},
   "source": [
    "Since we see that we have a sequence of dates with a single row per date, we can see that we have seperate timeseries for each combinations of `Name`.  This make sense as S&P 500 is an index fund composed of many stocks in the stock market.  To simplify the project, we will split the data to only analyze data that is from the **top 4 highest volumes** of trades."
   ]
  },
  {
   "cell_type": "markdown",
   "id": "d0b5687d-b32a-4ca3-9281-6f31167117fb",
   "metadata": {},
   "source": [
    "## Finding the Markets with Highest Trade Volume"
   ]
  },
  {
   "cell_type": "markdown",
   "id": "68f458e8-73f9-4b38-b3d1-ad4831484fcd",
   "metadata": {},
   "source": [
    "### Data Cleaning"
   ]
  },
  {
   "cell_type": "code",
   "execution_count": 15,
   "id": "ebd7b00f-3c0c-46ac-b398-0f5de68d9d04",
   "metadata": {},
   "outputs": [],
   "source": [
    "#Convert to datetime\n",
    "tesla_dat[\"Date\"] = pd.to_datetime(tesla_dat[\"Date\"])\n",
    "s500_dat[\"date\"] = pd.to_datetime(s500_dat[\"date\"])\n",
    "\n",
    "#make so tesla dataset uses 'date' instead of 'Date'\n",
    "tesla_dat = tesla_dat.rename(columns={\"Date\": \"date\"})"
   ]
  },
  {
   "cell_type": "code",
   "execution_count": 16,
   "id": "9ef39c6d-a2cc-4227-b0ee-81dc248c29b7",
   "metadata": {},
   "outputs": [
    {
     "name": "stdout",
     "output_type": "stream",
     "text": [
      "<class 'pandas.core.frame.DataFrame'>\n",
      "Int64Index: 619029 entries, 0 to 619039\n",
      "Data columns (total 7 columns):\n",
      " #   Column  Non-Null Count   Dtype         \n",
      "---  ------  --------------   -----         \n",
      " 0   date    619029 non-null  datetime64[ns]\n",
      " 1   open    619029 non-null  float64       \n",
      " 2   high    619029 non-null  float64       \n",
      " 3   low     619029 non-null  float64       \n",
      " 4   close   619029 non-null  float64       \n",
      " 5   volume  619029 non-null  int64         \n",
      " 6   ticks   619029 non-null  object        \n",
      "dtypes: datetime64[ns](1), float64(4), int64(1), object(1)\n",
      "memory usage: 37.8+ MB\n"
     ]
    },
    {
     "name": "stderr",
     "output_type": "stream",
     "text": [
      "C:\\Users\\vince\\AppData\\Local\\Temp\\ipykernel_2248\\3230567191.py:11: DeprecationWarning: In a future version, `df.iloc[:, i] = newvals` will attempt to set the values inplace instead of always setting a new array. To retain the old behavior, use either `df[df.columns[i]] = newvals` or, if columns are non-unique, `df.isetitem(i, newvals)`\n",
      "  new_df.loc[:, 'date'] = pd.to_datetime(rdf.loc[:, 'date'], format='%Y/%m/%d')\n"
     ]
    }
   ],
   "source": [
    "#Code taken from Kaggle Notebook https://www.kaggle.com/code/avikumart/timeseries-stock-price-analysis-forecasting\n",
    "\n",
    "# rename Name to ticks\n",
    "rdf = s500_dat.rename(columns={'Name':'ticks'})\n",
    "\n",
    "# drop the null as they a few values and time-series won't be affected by such values\n",
    "rdf.dropna(inplace=True)\n",
    "\n",
    "# change the dtype of date column\n",
    "new_df = rdf.copy()\n",
    "new_df.loc[:, 'date'] = pd.to_datetime(rdf.loc[:, 'date'], format='%Y/%m/%d')\n",
    "\n",
    "new_df.info()"
   ]
  },
  {
   "cell_type": "markdown",
   "id": "b6ddbfa1-cfef-4ab4-98ca-66911d34d277",
   "metadata": {},
   "source": [
    "### Finding Highest Mean Volume"
   ]
  },
  {
   "cell_type": "code",
   "execution_count": 17,
   "id": "a8827c2e-6ac6-4ba0-bee3-6ae0471fd0a8",
   "metadata": {},
   "outputs": [
    {
     "name": "stdout",
     "output_type": "stream",
     "text": [
      "Length of the mean of ticks dictionary: 505\n",
      "Top 4 company tickers with highest average traded stock volume:\n",
      " Index(['BAC', 'AAPL', 'GE', 'F'], dtype='object')\n"
     ]
    }
   ],
   "source": [
    "# find the average volume of each stocks using function and sort top 4 most traded stocks for further analysis \n",
    "mean_dict = {}\n",
    "\n",
    "# find average of volume traded over a period of time using for loops\n",
    "for key in new_df['ticks'].unique():\n",
    "    value = new_df[new_df['ticks'] == key ]['volume'].mean()\n",
    "    mean_dict[key]= value\n",
    "\n",
    "print(\"Length of the mean of ticks dictionary:\", len(mean_dict))\n",
    "\n",
    "# convert dict to pandas dataframe\n",
    "avaerage_s = pd.Series(mean_dict).transpose()\n",
    "top4_s = avaerage_s.sort_values(ascending=False)[:4]\n",
    "\n",
    "print(\"Top 4 company tickers with highest average traded stock volume:\\n\", top4_s.index)"
   ]
  },
  {
   "cell_type": "markdown",
   "id": "5f55ec89-405a-4578-beb4-6d93370ea59b",
   "metadata": {},
   "source": [
    "### Dividing the Dataframes"
   ]
  },
  {
   "cell_type": "markdown",
   "id": "685225d7-682b-44ce-9543-f8850f2bdc61",
   "metadata": {},
   "source": [
    "From the code above, we see that the markets with the highest volume are:\n",
    "1. Bank of America\n",
    "2. Apple\n",
    "3. General Electric\n",
    "4. Ford Motor Company\n",
    "\n",
    "We will then divide the dataframes accordingly:"
   ]
  },
  {
   "cell_type": "code",
   "execution_count": 18,
   "id": "be6b9a44-5321-4673-a523-e93dfb0fbea9",
   "metadata": {},
   "outputs": [
    {
     "data": {
      "text/html": [
       "<div>\n",
       "<style scoped>\n",
       "    .dataframe tbody tr th:only-of-type {\n",
       "        vertical-align: middle;\n",
       "    }\n",
       "\n",
       "    .dataframe tbody tr th {\n",
       "        vertical-align: top;\n",
       "    }\n",
       "\n",
       "    .dataframe thead th {\n",
       "        text-align: right;\n",
       "    }\n",
       "</style>\n",
       "<table border=\"1\" class=\"dataframe\">\n",
       "  <thead>\n",
       "    <tr style=\"text-align: right;\">\n",
       "      <th></th>\n",
       "      <th>date</th>\n",
       "      <th>open</th>\n",
       "      <th>high</th>\n",
       "      <th>low</th>\n",
       "      <th>close</th>\n",
       "      <th>volume</th>\n",
       "      <th>Name</th>\n",
       "    </tr>\n",
       "  </thead>\n",
       "  <tbody>\n",
       "    <tr>\n",
       "      <th>72870</th>\n",
       "      <td>2013-02-08</td>\n",
       "      <td>11.86</td>\n",
       "      <td>11.90</td>\n",
       "      <td>11.72</td>\n",
       "      <td>11.760</td>\n",
       "      <td>145217221</td>\n",
       "      <td>BAC</td>\n",
       "    </tr>\n",
       "    <tr>\n",
       "      <th>72871</th>\n",
       "      <td>2013-02-11</td>\n",
       "      <td>11.73</td>\n",
       "      <td>11.90</td>\n",
       "      <td>11.67</td>\n",
       "      <td>11.860</td>\n",
       "      <td>103499848</td>\n",
       "      <td>BAC</td>\n",
       "    </tr>\n",
       "    <tr>\n",
       "      <th>72872</th>\n",
       "      <td>2013-02-12</td>\n",
       "      <td>11.87</td>\n",
       "      <td>12.34</td>\n",
       "      <td>11.78</td>\n",
       "      <td>12.245</td>\n",
       "      <td>231771561</td>\n",
       "      <td>BAC</td>\n",
       "    </tr>\n",
       "    <tr>\n",
       "      <th>72873</th>\n",
       "      <td>2013-02-13</td>\n",
       "      <td>12.35</td>\n",
       "      <td>12.42</td>\n",
       "      <td>12.05</td>\n",
       "      <td>12.170</td>\n",
       "      <td>192478919</td>\n",
       "      <td>BAC</td>\n",
       "    </tr>\n",
       "    <tr>\n",
       "      <th>72874</th>\n",
       "      <td>2013-02-14</td>\n",
       "      <td>12.09</td>\n",
       "      <td>12.27</td>\n",
       "      <td>12.07</td>\n",
       "      <td>12.130</td>\n",
       "      <td>143901737</td>\n",
       "      <td>BAC</td>\n",
       "    </tr>\n",
       "  </tbody>\n",
       "</table>\n",
       "</div>"
      ],
      "text/plain": [
       "            date   open   high    low   close     volume Name\n",
       "72870 2013-02-08  11.86  11.90  11.72  11.760  145217221  BAC\n",
       "72871 2013-02-11  11.73  11.90  11.67  11.860  103499848  BAC\n",
       "72872 2013-02-12  11.87  12.34  11.78  12.245  231771561  BAC\n",
       "72873 2013-02-13  12.35  12.42  12.05  12.170  192478919  BAC\n",
       "72874 2013-02-14  12.09  12.27  12.07  12.130  143901737  BAC"
      ]
     },
     "execution_count": 18,
     "metadata": {},
     "output_type": "execute_result"
    }
   ],
   "source": [
    "## Bank of America\n",
    "bac = s500_dat.loc[s500_dat['Name'] == 'BAC']\n",
    "bac.head()"
   ]
  },
  {
   "cell_type": "code",
   "execution_count": 19,
   "id": "5b6add96-7da0-46e0-a73f-612577b616ca",
   "metadata": {},
   "outputs": [
    {
     "data": {
      "text/html": [
       "<div>\n",
       "<style scoped>\n",
       "    .dataframe tbody tr th:only-of-type {\n",
       "        vertical-align: middle;\n",
       "    }\n",
       "\n",
       "    .dataframe tbody tr th {\n",
       "        vertical-align: top;\n",
       "    }\n",
       "\n",
       "    .dataframe thead th {\n",
       "        text-align: right;\n",
       "    }\n",
       "</style>\n",
       "<table border=\"1\" class=\"dataframe\">\n",
       "  <thead>\n",
       "    <tr style=\"text-align: right;\">\n",
       "      <th></th>\n",
       "      <th>date</th>\n",
       "      <th>open</th>\n",
       "      <th>high</th>\n",
       "      <th>low</th>\n",
       "      <th>close</th>\n",
       "      <th>volume</th>\n",
       "      <th>Name</th>\n",
       "    </tr>\n",
       "  </thead>\n",
       "  <tbody>\n",
       "    <tr>\n",
       "      <th>1259</th>\n",
       "      <td>2013-02-08</td>\n",
       "      <td>67.7142</td>\n",
       "      <td>68.4014</td>\n",
       "      <td>66.8928</td>\n",
       "      <td>67.8542</td>\n",
       "      <td>158168416</td>\n",
       "      <td>AAPL</td>\n",
       "    </tr>\n",
       "    <tr>\n",
       "      <th>1260</th>\n",
       "      <td>2013-02-11</td>\n",
       "      <td>68.0714</td>\n",
       "      <td>69.2771</td>\n",
       "      <td>67.6071</td>\n",
       "      <td>68.5614</td>\n",
       "      <td>129029425</td>\n",
       "      <td>AAPL</td>\n",
       "    </tr>\n",
       "    <tr>\n",
       "      <th>1261</th>\n",
       "      <td>2013-02-12</td>\n",
       "      <td>68.5014</td>\n",
       "      <td>68.9114</td>\n",
       "      <td>66.8205</td>\n",
       "      <td>66.8428</td>\n",
       "      <td>151829363</td>\n",
       "      <td>AAPL</td>\n",
       "    </tr>\n",
       "    <tr>\n",
       "      <th>1262</th>\n",
       "      <td>2013-02-13</td>\n",
       "      <td>66.7442</td>\n",
       "      <td>67.6628</td>\n",
       "      <td>66.1742</td>\n",
       "      <td>66.7156</td>\n",
       "      <td>118721995</td>\n",
       "      <td>AAPL</td>\n",
       "    </tr>\n",
       "    <tr>\n",
       "      <th>1263</th>\n",
       "      <td>2013-02-14</td>\n",
       "      <td>66.3599</td>\n",
       "      <td>67.3771</td>\n",
       "      <td>66.2885</td>\n",
       "      <td>66.6556</td>\n",
       "      <td>88809154</td>\n",
       "      <td>AAPL</td>\n",
       "    </tr>\n",
       "  </tbody>\n",
       "</table>\n",
       "</div>"
      ],
      "text/plain": [
       "           date     open     high      low    close     volume  Name\n",
       "1259 2013-02-08  67.7142  68.4014  66.8928  67.8542  158168416  AAPL\n",
       "1260 2013-02-11  68.0714  69.2771  67.6071  68.5614  129029425  AAPL\n",
       "1261 2013-02-12  68.5014  68.9114  66.8205  66.8428  151829363  AAPL\n",
       "1262 2013-02-13  66.7442  67.6628  66.1742  66.7156  118721995  AAPL\n",
       "1263 2013-02-14  66.3599  67.3771  66.2885  66.6556   88809154  AAPL"
      ]
     },
     "execution_count": 19,
     "metadata": {},
     "output_type": "execute_result"
    }
   ],
   "source": [
    "## Apple\n",
    "apple = s500_dat.loc[s500_dat['Name'] == 'AAPL']\n",
    "apple.head()"
   ]
  },
  {
   "cell_type": "code",
   "execution_count": 20,
   "id": "fc15bda0-dcd6-49df-9834-b0e0a2a1ddc1",
   "metadata": {},
   "outputs": [
    {
     "data": {
      "text/html": [
       "<div>\n",
       "<style scoped>\n",
       "    .dataframe tbody tr th:only-of-type {\n",
       "        vertical-align: middle;\n",
       "    }\n",
       "\n",
       "    .dataframe tbody tr th {\n",
       "        vertical-align: top;\n",
       "    }\n",
       "\n",
       "    .dataframe thead th {\n",
       "        text-align: right;\n",
       "    }\n",
       "</style>\n",
       "<table border=\"1\" class=\"dataframe\">\n",
       "  <thead>\n",
       "    <tr style=\"text-align: right;\">\n",
       "      <th></th>\n",
       "      <th>date</th>\n",
       "      <th>open</th>\n",
       "      <th>high</th>\n",
       "      <th>low</th>\n",
       "      <th>close</th>\n",
       "      <th>volume</th>\n",
       "      <th>Name</th>\n",
       "    </tr>\n",
       "  </thead>\n",
       "  <tbody>\n",
       "    <tr>\n",
       "      <th>242754</th>\n",
       "      <td>2013-02-08</td>\n",
       "      <td>22.50</td>\n",
       "      <td>22.56</td>\n",
       "      <td>22.45</td>\n",
       "      <td>22.50</td>\n",
       "      <td>24424506</td>\n",
       "      <td>GE</td>\n",
       "    </tr>\n",
       "    <tr>\n",
       "      <th>242755</th>\n",
       "      <td>2013-02-11</td>\n",
       "      <td>22.49</td>\n",
       "      <td>22.51</td>\n",
       "      <td>22.35</td>\n",
       "      <td>22.45</td>\n",
       "      <td>19738628</td>\n",
       "      <td>GE</td>\n",
       "    </tr>\n",
       "    <tr>\n",
       "      <th>242756</th>\n",
       "      <td>2013-02-12</td>\n",
       "      <td>22.48</td>\n",
       "      <td>22.65</td>\n",
       "      <td>22.48</td>\n",
       "      <td>22.58</td>\n",
       "      <td>34139526</td>\n",
       "      <td>GE</td>\n",
       "    </tr>\n",
       "    <tr>\n",
       "      <th>242757</th>\n",
       "      <td>2013-02-13</td>\n",
       "      <td>23.11</td>\n",
       "      <td>23.48</td>\n",
       "      <td>23.04</td>\n",
       "      <td>23.39</td>\n",
       "      <td>84933955</td>\n",
       "      <td>GE</td>\n",
       "    </tr>\n",
       "    <tr>\n",
       "      <th>242758</th>\n",
       "      <td>2013-02-14</td>\n",
       "      <td>23.25</td>\n",
       "      <td>23.49</td>\n",
       "      <td>23.11</td>\n",
       "      <td>23.41</td>\n",
       "      <td>53990644</td>\n",
       "      <td>GE</td>\n",
       "    </tr>\n",
       "  </tbody>\n",
       "</table>\n",
       "</div>"
      ],
      "text/plain": [
       "             date   open   high    low  close    volume Name\n",
       "242754 2013-02-08  22.50  22.56  22.45  22.50  24424506   GE\n",
       "242755 2013-02-11  22.49  22.51  22.35  22.45  19738628   GE\n",
       "242756 2013-02-12  22.48  22.65  22.48  22.58  34139526   GE\n",
       "242757 2013-02-13  23.11  23.48  23.04  23.39  84933955   GE\n",
       "242758 2013-02-14  23.25  23.49  23.11  23.41  53990644   GE"
      ]
     },
     "execution_count": 20,
     "metadata": {},
     "output_type": "execute_result"
    }
   ],
   "source": [
    "## General Electric\n",
    "ge = s500_dat.loc[s500_dat['Name'] == 'GE']\n",
    "ge.head()"
   ]
  },
  {
   "cell_type": "code",
   "execution_count": 21,
   "id": "aecd5c82-78b0-4ba8-9a5f-db630def68f4",
   "metadata": {},
   "outputs": [
    {
     "data": {
      "text/html": [
       "<div>\n",
       "<style scoped>\n",
       "    .dataframe tbody tr th:only-of-type {\n",
       "        vertical-align: middle;\n",
       "    }\n",
       "\n",
       "    .dataframe tbody tr th {\n",
       "        vertical-align: top;\n",
       "    }\n",
       "\n",
       "    .dataframe thead th {\n",
       "        text-align: right;\n",
       "    }\n",
       "</style>\n",
       "<table border=\"1\" class=\"dataframe\">\n",
       "  <thead>\n",
       "    <tr style=\"text-align: right;\">\n",
       "      <th></th>\n",
       "      <th>date</th>\n",
       "      <th>open</th>\n",
       "      <th>high</th>\n",
       "      <th>low</th>\n",
       "      <th>close</th>\n",
       "      <th>volume</th>\n",
       "      <th>Name</th>\n",
       "    </tr>\n",
       "  </thead>\n",
       "  <tbody>\n",
       "    <tr>\n",
       "      <th>240236</th>\n",
       "      <td>2013-02-08</td>\n",
       "      <td>13.10</td>\n",
       "      <td>13.16</td>\n",
       "      <td>13.05</td>\n",
       "      <td>13.10</td>\n",
       "      <td>18596061</td>\n",
       "      <td>F</td>\n",
       "    </tr>\n",
       "    <tr>\n",
       "      <th>240237</th>\n",
       "      <td>2013-02-11</td>\n",
       "      <td>13.06</td>\n",
       "      <td>13.20</td>\n",
       "      <td>13.02</td>\n",
       "      <td>13.11</td>\n",
       "      <td>17685616</td>\n",
       "      <td>F</td>\n",
       "    </tr>\n",
       "    <tr>\n",
       "      <th>240238</th>\n",
       "      <td>2013-02-12</td>\n",
       "      <td>13.12</td>\n",
       "      <td>13.20</td>\n",
       "      <td>13.05</td>\n",
       "      <td>13.08</td>\n",
       "      <td>26231279</td>\n",
       "      <td>F</td>\n",
       "    </tr>\n",
       "    <tr>\n",
       "      <th>240239</th>\n",
       "      <td>2013-02-13</td>\n",
       "      <td>13.11</td>\n",
       "      <td>13.14</td>\n",
       "      <td>12.99</td>\n",
       "      <td>13.04</td>\n",
       "      <td>24501066</td>\n",
       "      <td>F</td>\n",
       "    </tr>\n",
       "    <tr>\n",
       "      <th>240240</th>\n",
       "      <td>2013-02-14</td>\n",
       "      <td>13.00</td>\n",
       "      <td>13.17</td>\n",
       "      <td>12.96</td>\n",
       "      <td>13.11</td>\n",
       "      <td>33487476</td>\n",
       "      <td>F</td>\n",
       "    </tr>\n",
       "  </tbody>\n",
       "</table>\n",
       "</div>"
      ],
      "text/plain": [
       "             date   open   high    low  close    volume Name\n",
       "240236 2013-02-08  13.10  13.16  13.05  13.10  18596061    F\n",
       "240237 2013-02-11  13.06  13.20  13.02  13.11  17685616    F\n",
       "240238 2013-02-12  13.12  13.20  13.05  13.08  26231279    F\n",
       "240239 2013-02-13  13.11  13.14  12.99  13.04  24501066    F\n",
       "240240 2013-02-14  13.00  13.17  12.96  13.11  33487476    F"
      ]
     },
     "execution_count": 21,
     "metadata": {},
     "output_type": "execute_result"
    }
   ],
   "source": [
    "## Facebook\n",
    "fb = s500_dat.loc[s500_dat['Name'] == 'F']\n",
    "fb.head()"
   ]
  },
  {
   "cell_type": "markdown",
   "id": "ea51058a-06c7-442e-af86-b0072017c0ad",
   "metadata": {},
   "source": [
    "## Splitting the Data"
   ]
  },
  {
   "cell_type": "markdown",
   "id": "3c321f6b-2e17-4fb0-ab5c-dce8712ae47f",
   "metadata": {},
   "source": [
    "Since there is mis-matching in the date ranges, we will focus on the dates the exists in both datasets to handle the differences in dates."
   ]
  },
  {
   "cell_type": "code",
   "execution_count": 22,
   "id": "a254aca5-6db9-4cec-b98c-e284bfb8d10e",
   "metadata": {},
   "outputs": [
    {
     "name": "stdout",
     "output_type": "stream",
     "text": [
      "Tesla Date Range: 2013-02-08 00:00:00 to 2018-02-07 00:00:00\n",
      "S&P 500 Date Range: 2013-02-08 00:00:00 to 2018-02-07 00:00:00\n"
     ]
    }
   ],
   "source": [
    "tesla_dat = tesla_dat[(tesla_dat['date'] >= '2013-02-08') & (tesla_dat['date'] <= '2018-02-07')]\n",
    "print(\"Tesla Date Range:\", tesla_dat[\"date\"].min(), \"to\", tesla_dat[\"date\"].max())\n",
    "print(\"S&P 500 Date Range:\", s500_dat[\"date\"].min(), \"to\", s500_dat[\"date\"].max())"
   ]
  },
  {
   "cell_type": "markdown",
   "id": "2a2a67e8-e145-421b-b5ef-2b129fa34d5a",
   "metadata": {},
   "source": [
    "Now that the dates are matched, we now have a total of 5 years of data from Feburary 2013 to Feburary 2018.  Lets split the data so we have **one year** of testing data for each dataframe."
   ]
  },
  {
   "cell_type": "code",
   "execution_count": 23,
   "id": "1a82e109-14ad-4358-aacb-a3045f91a115",
   "metadata": {},
   "outputs": [],
   "source": [
    "#Creating Train/test split\n",
    "split_date = pd.to_datetime('20170207', format='%Y%m%d')\n",
    "\n",
    "tesla_train = tesla_dat[tesla_dat[\"date\"] <= split_date]\n",
    "tesla_test  = tesla_dat[tesla_dat[\"date\"] >  split_date]\n",
    "\n",
    "bac_train = bac[bac[\"date\"] <= split_date]\n",
    "bac_test = bac[bac[\"date\"] > split_date]\n",
    "\n",
    "apple_train = apple[apple[\"date\"] <= split_date]\n",
    "apple_test = apple[apple[\"date\"] > split_date]\n",
    "\n",
    "ge_train = ge[ge[\"date\"] <= split_date]\n",
    "ge_test = ge[ge[\"date\"] > split_date]\n",
    "\n",
    "fb_train = fb[fb[\"date\"] <= split_date]\n",
    "fb_test = fb[fb[\"date\"] > split_date]"
   ]
  },
  {
   "cell_type": "code",
   "execution_count": 24,
   "id": "62e98a57-7358-4b48-a1c6-5b0a4bf5ff62",
   "metadata": {},
   "outputs": [
    {
     "name": "stdout",
     "output_type": "stream",
     "text": [
      "Tesla Train Date Range: 2013-02-08 00:00:00 to 2017-02-07 00:00:00\n",
      "Tesla Test Date Range: 2017-02-08 00:00:00 to 2018-02-07 00:00:00\n",
      "Bank of America Train Date Range: 2013-02-08 00:00:00 to 2017-02-07 00:00:00\n",
      "Bank of America Test Date Range: 2017-02-08 00:00:00 to 2018-02-07 00:00:00\n",
      "Apple Train Date Range: 2013-02-08 00:00:00 to 2017-02-07 00:00:00\n",
      "Apple Test Date Range: 2017-02-08 00:00:00 to 2018-02-07 00:00:00\n",
      "General Electric Train Date Range: 2013-02-08 00:00:00 to 2017-02-07 00:00:00\n",
      "General Electric Test Date Range: 2017-02-08 00:00:00 to 2018-02-07 00:00:00\n",
      "Facebook Train Date Range: 2013-02-08 00:00:00 to 2017-02-07 00:00:00\n",
      "Facebook Test Date Range: 2017-02-08 00:00:00 to 2018-02-07 00:00:00\n"
     ]
    }
   ],
   "source": [
    "# Define a dictionary to hold the datasets\n",
    "datasets = {\n",
    "    \"Tesla Train\": tesla_train,\n",
    "    \"Tesla Test\": tesla_test,\n",
    "    \"Bank of America Train\": bac_train,\n",
    "    \"Bank of America Test\": bac_test,\n",
    "    \"Apple Train\": apple_train,\n",
    "    \"Apple Test\": apple_test,\n",
    "    \"General Electric Train\": ge_train,\n",
    "    \"General Electric Test\": ge_test,\n",
    "    \"Facebook Train\": fb_train,\n",
    "    \"Facebook Test\": fb_test,\n",
    "}\n",
    "\n",
    "# Loop through the dictionary and print date ranges\n",
    "for name, data in datasets.items():\n",
    "    print(f\"{name} Date Range: {data['date'].min()} to {data['date'].max()}\")"
   ]
  },
  {
   "cell_type": "markdown",
   "id": "a46933a7-61cf-47a6-8581-b40105d72e6a",
   "metadata": {},
   "source": [
    "## Explanatory Data Analysis"
   ]
  },
  {
   "cell_type": "markdown",
   "id": "cfbfea19-fdf9-4884-b6b9-eded66acbc5c",
   "metadata": {},
   "source": [
    "### Finding Missing Values "
   ]
  },
  {
   "cell_type": "markdown",
   "id": "c07eac64-1570-4036-8c46-0cd68c68f583",
   "metadata": {},
   "source": [
    "We will first explore if there are any missing values, by using a dictionary and iterating through the datesets, we can explore the percentages of missing values for each respective dataset.  Ideally this should've been done before splitting because having missing values in our testing set could complicate our model and introduce bias."
   ]
  },
  {
   "cell_type": "code",
   "execution_count": 25,
   "id": "fa609a6f-75a8-4345-ae2b-a6460dc86dda",
   "metadata": {},
   "outputs": [
    {
     "name": "stdout",
     "output_type": "stream",
     "text": [
      "Missing Values in Tesla:\n",
      "date         0.0\n",
      "Open         0.0\n",
      "High         0.0\n",
      "Low          0.0\n",
      "Close        0.0\n",
      "Adj Close    0.0\n",
      "Volume       0.0\n",
      "dtype: float64\n",
      "--------------------------------------------------\n",
      "Missing Values in Bank of America:\n",
      "date      0.0\n",
      "open      0.0\n",
      "high      0.0\n",
      "low       0.0\n",
      "close     0.0\n",
      "volume    0.0\n",
      "Name      0.0\n",
      "dtype: float64\n",
      "--------------------------------------------------\n",
      "Missing Values in Apple:\n",
      "date      0.0\n",
      "open      0.0\n",
      "high      0.0\n",
      "low       0.0\n",
      "close     0.0\n",
      "volume    0.0\n",
      "Name      0.0\n",
      "dtype: float64\n",
      "--------------------------------------------------\n",
      "Missing Values in General Electric:\n",
      "date      0.0\n",
      "open      0.0\n",
      "high      0.0\n",
      "low       0.0\n",
      "close     0.0\n",
      "volume    0.0\n",
      "Name      0.0\n",
      "dtype: float64\n",
      "--------------------------------------------------\n",
      "Missing Values in Facebook:\n",
      "date      0.0\n",
      "open      0.0\n",
      "high      0.0\n",
      "low       0.0\n",
      "close     0.0\n",
      "volume    0.0\n",
      "Name      0.0\n",
      "dtype: float64\n",
      "--------------------------------------------------\n"
     ]
    }
   ],
   "source": [
    "# Define the datasets dictionary\n",
    "datasets = {\n",
    "    \"Tesla\": tesla_dat,\n",
    "    \"Bank of America\": bac,\n",
    "    \"Apple\": apple,\n",
    "    \"General Electric\": ge,\n",
    "    \"Facebook\": fb,\n",
    "}\n",
    "\n",
    "# Loop through the dictionary and calculate missing values\n",
    "for name, df in datasets.items():\n",
    "    print(f\"Missing Values in {name}:\")\n",
    "    missing_percentage = (df.isnull().sum() / len(df)) * 100  # Calculate percentage\n",
    "    print(missing_percentage)  # Print percentage of missing values for each column\n",
    "    print(\"-\" * 50)  # Separator for readability"
   ]
  },
  {
   "cell_type": "markdown",
   "id": "9840f660-0dc6-4fa9-baa3-1589d6f2d9e2",
   "metadata": {},
   "source": [
    "Luckily, there are no missing values in our main dataset, meaning, there are no missing values in our training/testing data splits.  This can mean we can move forward with our datasets."
   ]
  },
  {
   "cell_type": "markdown",
   "id": "4e751f77-b7fc-4431-8be5-b75927e17dbd",
   "metadata": {},
   "source": [
    "### Adjusted Close Vs Close of Tesla Stocks"
   ]
  },
  {
   "cell_type": "markdown",
   "id": "cfe1b271-ff3e-4b6b-b5f5-3f25bf24e2ee",
   "metadata": {},
   "source": [
    "In the Telsa dataset, we have two different columns: `Close` and `Adj Close`.  In theory, it would be better to use the `Adj Close` column to find the adjusted closing price for the stock of tesla, however this might be seen as an advantage in comparison to the S&P 500 stocks, therefore we will first see if the 2 columns are the same first and move on from there.  \n",
    "\n",
    "**Note** Ideally this should've been done before splitting the data"
   ]
  },
  {
   "cell_type": "code",
   "execution_count": 26,
   "id": "caac3c79-adc4-4f01-aced-3f9fb6dcd995",
   "metadata": {},
   "outputs": [
    {
     "data": {
      "text/html": [
       "<div>\n",
       "<style scoped>\n",
       "    .dataframe tbody tr th:only-of-type {\n",
       "        vertical-align: middle;\n",
       "    }\n",
       "\n",
       "    .dataframe tbody tr th {\n",
       "        vertical-align: top;\n",
       "    }\n",
       "\n",
       "    .dataframe thead th {\n",
       "        text-align: right;\n",
       "    }\n",
       "</style>\n",
       "<table border=\"1\" class=\"dataframe\">\n",
       "  <thead>\n",
       "    <tr style=\"text-align: right;\">\n",
       "      <th></th>\n",
       "      <th>date</th>\n",
       "      <th>Open</th>\n",
       "      <th>High</th>\n",
       "      <th>Low</th>\n",
       "      <th>Close</th>\n",
       "      <th>Adj Close</th>\n",
       "      <th>Volume</th>\n",
       "    </tr>\n",
       "  </thead>\n",
       "  <tbody>\n",
       "    <tr>\n",
       "      <th>658</th>\n",
       "      <td>2013-02-08</td>\n",
       "      <td>7.890</td>\n",
       "      <td>8.000</td>\n",
       "      <td>7.828</td>\n",
       "      <td>7.848</td>\n",
       "      <td>7.848</td>\n",
       "      <td>5699000</td>\n",
       "    </tr>\n",
       "    <tr>\n",
       "      <th>659</th>\n",
       "      <td>2013-02-11</td>\n",
       "      <td>7.596</td>\n",
       "      <td>7.830</td>\n",
       "      <td>7.500</td>\n",
       "      <td>7.684</td>\n",
       "      <td>7.684</td>\n",
       "      <td>16331500</td>\n",
       "    </tr>\n",
       "    <tr>\n",
       "      <th>660</th>\n",
       "      <td>2013-02-12</td>\n",
       "      <td>7.690</td>\n",
       "      <td>7.774</td>\n",
       "      <td>7.458</td>\n",
       "      <td>7.578</td>\n",
       "      <td>7.578</td>\n",
       "      <td>11306500</td>\n",
       "    </tr>\n",
       "    <tr>\n",
       "      <th>661</th>\n",
       "      <td>2013-02-13</td>\n",
       "      <td>7.660</td>\n",
       "      <td>7.800</td>\n",
       "      <td>7.610</td>\n",
       "      <td>7.690</td>\n",
       "      <td>7.690</td>\n",
       "      <td>4834000</td>\n",
       "    </tr>\n",
       "    <tr>\n",
       "      <th>662</th>\n",
       "      <td>2013-02-14</td>\n",
       "      <td>7.728</td>\n",
       "      <td>7.750</td>\n",
       "      <td>7.642</td>\n",
       "      <td>7.654</td>\n",
       "      <td>7.654</td>\n",
       "      <td>4953500</td>\n",
       "    </tr>\n",
       "  </tbody>\n",
       "</table>\n",
       "</div>"
      ],
      "text/plain": [
       "          date   Open   High    Low  Close  Adj Close    Volume\n",
       "658 2013-02-08  7.890  8.000  7.828  7.848      7.848   5699000\n",
       "659 2013-02-11  7.596  7.830  7.500  7.684      7.684  16331500\n",
       "660 2013-02-12  7.690  7.774  7.458  7.578      7.578  11306500\n",
       "661 2013-02-13  7.660  7.800  7.610  7.690      7.690   4834000\n",
       "662 2013-02-14  7.728  7.750  7.642  7.654      7.654   4953500"
      ]
     },
     "execution_count": 26,
     "metadata": {},
     "output_type": "execute_result"
    }
   ],
   "source": [
    "tesla_train.head()"
   ]
  },
  {
   "cell_type": "code",
   "execution_count": 29,
   "id": "8ae0617b-1490-4e4c-b68f-e8d799f7e452",
   "metadata": {},
   "outputs": [
    {
     "name": "stdout",
     "output_type": "stream",
     "text": [
      "Number of rows with differences: 0\n",
      "Empty DataFrame\n",
      "Columns: [date, Open, High, Low, Close, Adj Close, Volume]\n",
      "Index: []\n"
     ]
    }
   ],
   "source": [
    "# Find rows where 'close' and 'adj_close' differ\n",
    "differences = tesla_dat[tesla_dat[\"Close\"] != tesla_dat[\"Adj Close\"]]\n",
    "\n",
    "print(f\"Number of rows with differences: {len(differences)}\")\n",
    "print(differences)"
   ]
  },
  {
   "cell_type": "code",
   "execution_count": 32,
   "id": "54217c0f-304f-4745-92ac-b91eae18a32b",
   "metadata": {},
   "outputs": [
    {
     "name": "stdout",
     "output_type": "stream",
     "text": [
      "Are 'Close' and 'Adj Close' columns identical? True\n"
     ]
    }
   ],
   "source": [
    "# Check if 'close' and 'adj_close' columns are identical\n",
    "are_equal = tesla_dat[\"Close\"].equals(tesla_dat[\"Adj Close\"])\n",
    "\n",
    "print(\"Are 'Close' and 'Adj Close' columns identical?\", are_equal)"
   ]
  },
  {
   "cell_type": "markdown",
   "id": "777d3eb2-5523-406a-aa47-2d769042d06d",
   "metadata": {},
   "source": [
    "Since these 2 columns are identical to one another and no advantage was given to `Adj Close` within this time frame, it can be reasonable to drop the `Adj Close` Column from the Tesla datasets."
   ]
  },
  {
   "cell_type": "code",
   "execution_count": 33,
   "id": "a0963fbd-b25e-4cf8-a40e-ecc1c203f696",
   "metadata": {},
   "outputs": [
    {
     "data": {
      "text/html": [
       "<div>\n",
       "<style scoped>\n",
       "    .dataframe tbody tr th:only-of-type {\n",
       "        vertical-align: middle;\n",
       "    }\n",
       "\n",
       "    .dataframe tbody tr th {\n",
       "        vertical-align: top;\n",
       "    }\n",
       "\n",
       "    .dataframe thead th {\n",
       "        text-align: right;\n",
       "    }\n",
       "</style>\n",
       "<table border=\"1\" class=\"dataframe\">\n",
       "  <thead>\n",
       "    <tr style=\"text-align: right;\">\n",
       "      <th></th>\n",
       "      <th>date</th>\n",
       "      <th>Open</th>\n",
       "      <th>High</th>\n",
       "      <th>Low</th>\n",
       "      <th>Close</th>\n",
       "      <th>Volume</th>\n",
       "    </tr>\n",
       "  </thead>\n",
       "  <tbody>\n",
       "    <tr>\n",
       "      <th>658</th>\n",
       "      <td>2013-02-08</td>\n",
       "      <td>7.890</td>\n",
       "      <td>8.000</td>\n",
       "      <td>7.828</td>\n",
       "      <td>7.848</td>\n",
       "      <td>5699000</td>\n",
       "    </tr>\n",
       "    <tr>\n",
       "      <th>659</th>\n",
       "      <td>2013-02-11</td>\n",
       "      <td>7.596</td>\n",
       "      <td>7.830</td>\n",
       "      <td>7.500</td>\n",
       "      <td>7.684</td>\n",
       "      <td>16331500</td>\n",
       "    </tr>\n",
       "    <tr>\n",
       "      <th>660</th>\n",
       "      <td>2013-02-12</td>\n",
       "      <td>7.690</td>\n",
       "      <td>7.774</td>\n",
       "      <td>7.458</td>\n",
       "      <td>7.578</td>\n",
       "      <td>11306500</td>\n",
       "    </tr>\n",
       "    <tr>\n",
       "      <th>661</th>\n",
       "      <td>2013-02-13</td>\n",
       "      <td>7.660</td>\n",
       "      <td>7.800</td>\n",
       "      <td>7.610</td>\n",
       "      <td>7.690</td>\n",
       "      <td>4834000</td>\n",
       "    </tr>\n",
       "    <tr>\n",
       "      <th>662</th>\n",
       "      <td>2013-02-14</td>\n",
       "      <td>7.728</td>\n",
       "      <td>7.750</td>\n",
       "      <td>7.642</td>\n",
       "      <td>7.654</td>\n",
       "      <td>4953500</td>\n",
       "    </tr>\n",
       "  </tbody>\n",
       "</table>\n",
       "</div>"
      ],
      "text/plain": [
       "          date   Open   High    Low  Close    Volume\n",
       "658 2013-02-08  7.890  8.000  7.828  7.848   5699000\n",
       "659 2013-02-11  7.596  7.830  7.500  7.684  16331500\n",
       "660 2013-02-12  7.690  7.774  7.458  7.578  11306500\n",
       "661 2013-02-13  7.660  7.800  7.610  7.690   4834000\n",
       "662 2013-02-14  7.728  7.750  7.642  7.654   4953500"
      ]
     },
     "execution_count": 33,
     "metadata": {},
     "output_type": "execute_result"
    }
   ],
   "source": [
    "#Drop columns\n",
    "tesla_train = tesla_train.drop(columns=[\"Adj Close\"])\n",
    "tesla_test = tesla_test.drop(columns=[\"Adj Close\"])\n",
    "\n",
    "tesla_train.head()"
   ]
  },
  {
   "cell_type": "markdown",
   "id": "54cba56e-ec1a-46f8-9a50-a796ca99b0fa",
   "metadata": {},
   "source": [
    "### Simple Plottings of Company Stock Prices and Volume of Trades"
   ]
  },
  {
   "cell_type": "markdown",
   "id": "bd094d90-9e72-4c94-acda-a64cbe8f9024",
   "metadata": {},
   "source": [
    "#### Tesla"
   ]
  },
  {
   "cell_type": "code",
   "execution_count": 39,
   "id": "ec7e6a3a-4887-4ceb-bf2a-e2fd78681aa6",
   "metadata": {},
   "outputs": [
    {
     "data": {
      "image/png": "[encoded data removed]",
      "text/plain": [
       "<Figure size 1400x500 with 2 Axes>"
      ]
     },
     "metadata": {},
     "output_type": "display_data"
    }
   ],
   "source": [
    "# First Subplot\n",
    "f, (ax1, ax2) = plt.subplots(1, 2, figsize=(14, 5))\n",
    "\n",
    "# Close, High, and Low Prices on ax1\n",
    "ax1.plot(tesla_train[\"date\"], tesla_train[\"Close\"], label=\"Close\")\n",
    "ax1.plot(tesla_train[\"date\"], tesla_train[\"High\"], color=\"green\", label=\"High\")\n",
    "ax1.plot(tesla_train[\"date\"], tesla_train[\"Low\"], color=\"red\", label=\"Low\")\n",
    "ax1.set_xlabel(\"Date\", fontsize=12)\n",
    "ax1.set_ylabel(\"Stock Price\")\n",
    "ax1.set_title(\"Tesla Price History\")\n",
    "ax1.legend()\n",
    "\n",
    "# Volume on ax2\n",
    "ax2.plot(tesla_train[\"date\"], tesla_train[\"Volume\"], color=\"orange\", label=\"Volume\")\n",
    "ax2.set_xlabel(\"Date\", fontsize=12)\n",
    "ax2.set_ylabel(\"Volume\")\n",
    "ax2.set_title(\"Tesla's Volume History\")\n",
    "ax2.legend()\n",
    "\n",
    "for ax in [ax1, ax2]:\n",
    "    ax.xaxis.set_major_locator(mdates.YearLocator())  # Major ticks every year\n",
    "    ax.xaxis.set_major_formatter(mdates.DateFormatter(\"%Y\"))  # Format as 'YYYY'\n",
    "    ax.set_xlim([tesla_train[\"date\"].min(), tesla_train[\"date\"].max()])  # Limit to data range\n",
    "    ax.grid(True, linestyle=\"--\", alpha=0.7)  # Optional grid for clarity\n",
    "\n",
    "plt.tight_layout()\n",
    "plt.show()"
   ]
  },
  {
   "cell_type": "markdown",
   "id": "58390cb8-fda0-43e7-bd68-3b5ab122816b",
   "metadata": {},
   "source": [
    "Producing the scatterplots for Stock Price and Dates we can see that Tesla had an upwards trend from 2013 to the middle of 2014, then it got relatively stable with most of its volume of trades happening around 2014."
   ]
  }
 ],
 "metadata": {
  "kernelspec": {
   "display_name": "Python 3 (ipykernel)",
   "language": "python",
   "name": "python3"
  },
  "language_info": {
   "codemirror_mode": {
    "name": "ipython",
    "version": 3
   },
   "file_extension": ".py",
   "mimetype": "text/x-python",
   "name": "python",
   "nbconvert_exporter": "python",
   "pygments_lexer": "ipython3",
   "version": "3.8.10"
  }
 },
 "nbformat": 4,
 "nbformat_minor": 5
}
