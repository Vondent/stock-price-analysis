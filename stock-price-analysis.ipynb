{
 "cells": [
  {
   "cell_type": "markdown",
   "id": "8a0e3e20-f3f1-40c3-b3b8-f9694eb048fa",
   "metadata": {},
   "source": [
    "# Stock Price Analysis and Comparison"
   ]
  },
  {
   "cell_type": "markdown",
   "id": "b5b8c450-109e-4aa7-857d-de3c13bab815",
   "metadata": {},
   "source": [
    "Vincent Luong\n",
    "\n",
    "Write brief introduction about time series analysis"
   ]
  },
  {
   "cell_type": "code",
   "execution_count": 1,
   "id": "5592b0a1-fa81-45c2-97f7-63fab2ebb341",
   "metadata": {},
   "outputs": [],
   "source": [
    "import numpy as np\n",
    "import pandas as pd\n",
    "from datetime import datetime as dt\n",
    "import matplotlib.pyplot as plt\n",
    "import seaborn as sns\n",
    "%matplotlib inline"
   ]
  },
  {
   "cell_type": "markdown",
   "id": "9092deef-12e9-45d9-be22-f7d15bf2eb2d",
   "metadata": {},
   "source": [
    "## Importing Datasets and Summary Statistics"
   ]
  },
  {
   "cell_type": "markdown",
   "id": "032c6a35-5ad1-4a7c-b7ed-bdf6989f0db0",
   "metadata": {},
   "source": [
    "### Tesla"
   ]
  },
  {
   "cell_type": "code",
   "execution_count": 2,
   "id": "4c40083e-e683-4993-a843-dc7258ce679e",
   "metadata": {},
   "outputs": [
    {
     "data": {
      "text/html": [
       "<div>\n",
       "<style scoped>\n",
       "    .dataframe tbody tr th:only-of-type {\n",
       "        vertical-align: middle;\n",
       "    }\n",
       "\n",
       "    .dataframe tbody tr th {\n",
       "        vertical-align: top;\n",
       "    }\n",
       "\n",
       "    .dataframe thead th {\n",
       "        text-align: right;\n",
       "    }\n",
       "</style>\n",
       "<table border=\"1\" class=\"dataframe\">\n",
       "  <thead>\n",
       "    <tr style=\"text-align: right;\">\n",
       "      <th></th>\n",
       "      <th>Date</th>\n",
       "      <th>Open</th>\n",
       "      <th>High</th>\n",
       "      <th>Low</th>\n",
       "      <th>Close</th>\n",
       "      <th>Adj Close</th>\n",
       "      <th>Volume</th>\n",
       "    </tr>\n",
       "  </thead>\n",
       "  <tbody>\n",
       "    <tr>\n",
       "      <th>0</th>\n",
       "      <td>2010-06-29</td>\n",
       "      <td>3.800</td>\n",
       "      <td>5.000</td>\n",
       "      <td>3.508</td>\n",
       "      <td>4.778</td>\n",
       "      <td>4.778</td>\n",
       "      <td>93831500</td>\n",
       "    </tr>\n",
       "    <tr>\n",
       "      <th>1</th>\n",
       "      <td>2010-06-30</td>\n",
       "      <td>5.158</td>\n",
       "      <td>6.084</td>\n",
       "      <td>4.660</td>\n",
       "      <td>4.766</td>\n",
       "      <td>4.766</td>\n",
       "      <td>85935500</td>\n",
       "    </tr>\n",
       "    <tr>\n",
       "      <th>2</th>\n",
       "      <td>2010-07-01</td>\n",
       "      <td>5.000</td>\n",
       "      <td>5.184</td>\n",
       "      <td>4.054</td>\n",
       "      <td>4.392</td>\n",
       "      <td>4.392</td>\n",
       "      <td>41094000</td>\n",
       "    </tr>\n",
       "    <tr>\n",
       "      <th>3</th>\n",
       "      <td>2010-07-02</td>\n",
       "      <td>4.600</td>\n",
       "      <td>4.620</td>\n",
       "      <td>3.742</td>\n",
       "      <td>3.840</td>\n",
       "      <td>3.840</td>\n",
       "      <td>25699000</td>\n",
       "    </tr>\n",
       "    <tr>\n",
       "      <th>4</th>\n",
       "      <td>2010-07-06</td>\n",
       "      <td>4.000</td>\n",
       "      <td>4.000</td>\n",
       "      <td>3.166</td>\n",
       "      <td>3.222</td>\n",
       "      <td>3.222</td>\n",
       "      <td>34334500</td>\n",
       "    </tr>\n",
       "  </tbody>\n",
       "</table>\n",
       "</div>"
      ],
      "text/plain": [
       "         Date   Open   High    Low  Close  Adj Close    Volume\n",
       "0  2010-06-29  3.800  5.000  3.508  4.778      4.778  93831500\n",
       "1  2010-06-30  5.158  6.084  4.660  4.766      4.766  85935500\n",
       "2  2010-07-01  5.000  5.184  4.054  4.392      4.392  41094000\n",
       "3  2010-07-02  4.600  4.620  3.742  3.840      3.840  25699000\n",
       "4  2010-07-06  4.000  4.000  3.166  3.222      3.222  34334500"
      ]
     },
     "execution_count": 2,
     "metadata": {},
     "output_type": "execute_result"
    }
   ],
   "source": [
    "tesla_dat = pd.read_csv('data/tesla.csv')\n",
    "tesla_dat.head()"
   ]
  },
  {
   "cell_type": "markdown",
   "id": "7141ec24-aeb2-463b-8fd6-ad3b60e91dd1",
   "metadata": {},
   "source": [
    "From the tesla dataset, we have 7 features (1 categorical and 6 numerical):\n",
    "\n",
    "-`Date`: The date M/D/Y<br>\n",
    "-`Open`: The opening price of stock (in USD) <br>\n",
    "-`High`: The high price of that day (in USD) <br>\n",
    "-`Low`: The low price of that day (in USD) <br> \n",
    "-`Close`: The closed price of that day (in USD) <br>\n",
    "-`Volume`: The amount of stocks traded during that day <br>\n",
    "-`Adj Close`: The stock's closing price that has been amended to include any distributions/coporate actions that occurs before next days open (in USD) <br>"
   ]
  },
  {
   "cell_type": "code",
   "execution_count": 3,
   "id": "ff908985-c1a1-4fa9-be03-a036f4eaac1a",
   "metadata": {},
   "outputs": [
    {
     "data": {
      "text/plain": [
       "<bound method NDFrame.describe of             Date         Open         High         Low        Close  \\\n",
       "0     2010-06-29     3.800000     5.000000    3.508000     4.778000   \n",
       "1     2010-06-30     5.158000     6.084000    4.660000     4.766000   \n",
       "2     2010-07-01     5.000000     5.184000    4.054000     4.392000   \n",
       "3     2010-07-02     4.600000     4.620000    3.742000     3.840000   \n",
       "4     2010-07-06     4.000000     4.000000    3.166000     3.222000   \n",
       "...          ...          ...          ...         ...          ...   \n",
       "2951  2022-03-18   874.489990   907.849976  867.390015   905.390015   \n",
       "2952  2022-03-21   914.979980   942.849976  907.090027   921.159973   \n",
       "2953  2022-03-22   930.000000   997.859985  921.750000   993.979980   \n",
       "2954  2022-03-23   979.940002  1040.699951  976.400024   999.109985   \n",
       "2955  2022-03-24  1009.729980  1024.489990  988.799988  1013.919983   \n",
       "\n",
       "        Adj Close    Volume  \n",
       "0        4.778000  93831500  \n",
       "1        4.766000  85935500  \n",
       "2        4.392000  41094000  \n",
       "3        3.840000  25699000  \n",
       "4        3.222000  34334500  \n",
       "...           ...       ...  \n",
       "2951   905.390015  33408500  \n",
       "2952   921.159973  27327200  \n",
       "2953   993.979980  35289500  \n",
       "2954   999.109985  40225400  \n",
       "2955  1013.919983  22901900  \n",
       "\n",
       "[2956 rows x 7 columns]>"
      ]
     },
     "execution_count": 3,
     "metadata": {},
     "output_type": "execute_result"
    }
   ],
   "source": [
    "tesla_dat.describe"
   ]
  },
  {
   "cell_type": "code",
   "execution_count": 4,
   "id": "f3044a93-6d42-46d2-8371-9a8247b7aa3a",
   "metadata": {},
   "outputs": [
    {
     "data": {
      "text/plain": [
       "(2956, 7)"
      ]
     },
     "execution_count": 4,
     "metadata": {},
     "output_type": "execute_result"
    }
   ],
   "source": [
    "tesla_dat.shape"
   ]
  },
  {
   "cell_type": "code",
   "execution_count": 5,
   "id": "f99c3087-4fc8-42db-afd6-26d4e80f4881",
   "metadata": {},
   "outputs": [
    {
     "data": {
      "text/plain": [
       "'2010-06-29'"
      ]
     },
     "execution_count": 5,
     "metadata": {},
     "output_type": "execute_result"
    }
   ],
   "source": [
    "tesla_dat['Date'].min()"
   ]
  },
  {
   "cell_type": "code",
   "execution_count": 6,
   "id": "11fb3cdd-15af-4759-a221-c24c3ac76091",
   "metadata": {},
   "outputs": [
    {
     "data": {
      "text/plain": [
       "'2022-03-24'"
      ]
     },
     "execution_count": 6,
     "metadata": {},
     "output_type": "execute_result"
    }
   ],
   "source": [
    "tesla_dat['Date'].max()"
   ]
  },
  {
   "cell_type": "markdown",
   "id": "6e6276aa-5ec8-4ec8-8694-280cb56a3cf2",
   "metadata": {},
   "source": [
    "**Note**: Since the format is Y-M-D, it looks like the data ranges from the start of June 2010 to March 2022, for a total of 12 years."
   ]
  },
  {
   "cell_type": "markdown",
   "id": "cb63c39b-5b0e-4ea0-870d-e6a68441cd65",
   "metadata": {},
   "source": [
    "### S&P 500 "
   ]
  },
  {
   "cell_type": "code",
   "execution_count": 7,
   "id": "1248b5d5-0467-4892-a1c5-5d5c0487c4f8",
   "metadata": {},
   "outputs": [
    {
     "data": {
      "text/html": [
       "<div>\n",
       "<style scoped>\n",
       "    .dataframe tbody tr th:only-of-type {\n",
       "        vertical-align: middle;\n",
       "    }\n",
       "\n",
       "    .dataframe tbody tr th {\n",
       "        vertical-align: top;\n",
       "    }\n",
       "\n",
       "    .dataframe thead th {\n",
       "        text-align: right;\n",
       "    }\n",
       "</style>\n",
       "<table border=\"1\" class=\"dataframe\">\n",
       "  <thead>\n",
       "    <tr style=\"text-align: right;\">\n",
       "      <th></th>\n",
       "      <th>date</th>\n",
       "      <th>open</th>\n",
       "      <th>high</th>\n",
       "      <th>low</th>\n",
       "      <th>close</th>\n",
       "      <th>volume</th>\n",
       "      <th>Name</th>\n",
       "    </tr>\n",
       "  </thead>\n",
       "  <tbody>\n",
       "    <tr>\n",
       "      <th>0</th>\n",
       "      <td>2013-02-08</td>\n",
       "      <td>15.07</td>\n",
       "      <td>15.12</td>\n",
       "      <td>14.63</td>\n",
       "      <td>14.75</td>\n",
       "      <td>8407500</td>\n",
       "      <td>AAL</td>\n",
       "    </tr>\n",
       "    <tr>\n",
       "      <th>1</th>\n",
       "      <td>2013-02-11</td>\n",
       "      <td>14.89</td>\n",
       "      <td>15.01</td>\n",
       "      <td>14.26</td>\n",
       "      <td>14.46</td>\n",
       "      <td>8882000</td>\n",
       "      <td>AAL</td>\n",
       "    </tr>\n",
       "    <tr>\n",
       "      <th>2</th>\n",
       "      <td>2013-02-12</td>\n",
       "      <td>14.45</td>\n",
       "      <td>14.51</td>\n",
       "      <td>14.10</td>\n",
       "      <td>14.27</td>\n",
       "      <td>8126000</td>\n",
       "      <td>AAL</td>\n",
       "    </tr>\n",
       "    <tr>\n",
       "      <th>3</th>\n",
       "      <td>2013-02-13</td>\n",
       "      <td>14.30</td>\n",
       "      <td>14.94</td>\n",
       "      <td>14.25</td>\n",
       "      <td>14.66</td>\n",
       "      <td>10259500</td>\n",
       "      <td>AAL</td>\n",
       "    </tr>\n",
       "    <tr>\n",
       "      <th>4</th>\n",
       "      <td>2013-02-14</td>\n",
       "      <td>14.94</td>\n",
       "      <td>14.96</td>\n",
       "      <td>13.16</td>\n",
       "      <td>13.99</td>\n",
       "      <td>31879900</td>\n",
       "      <td>AAL</td>\n",
       "    </tr>\n",
       "  </tbody>\n",
       "</table>\n",
       "</div>"
      ],
      "text/plain": [
       "         date   open   high    low  close    volume Name\n",
       "0  2013-02-08  15.07  15.12  14.63  14.75   8407500  AAL\n",
       "1  2013-02-11  14.89  15.01  14.26  14.46   8882000  AAL\n",
       "2  2013-02-12  14.45  14.51  14.10  14.27   8126000  AAL\n",
       "3  2013-02-13  14.30  14.94  14.25  14.66  10259500  AAL\n",
       "4  2013-02-14  14.94  14.96  13.16  13.99  31879900  AAL"
      ]
     },
     "execution_count": 7,
     "metadata": {},
     "output_type": "execute_result"
    }
   ],
   "source": [
    "s500_dat = pd.read_csv('data/s500.csv')\n",
    "s500_dat.head()"
   ]
  },
  {
   "cell_type": "markdown",
   "id": "182d03dc-469e-4dbf-81d8-0d5ef18c2e87",
   "metadata": {},
   "source": [
    "From the S&P 500 dataset, we also have 7 features.  With 5 numerical features and 2 categorical features we have the following:\n",
    "\n",
    "-`date`: The date Y-M-D <br>\n",
    "-`open`: Price of the stock at market open (in USD) <br>\n",
    "-`high`: Highest price reached that day (in USD) <br>\n",
    "-`low`: lowest price reached in the day (in USD) <br>\n",
    "-`Volume`: Number of shares traded <br>\n",
    "-`Name`: The stock's ticker name"
   ]
  },
  {
   "cell_type": "code",
   "execution_count": 8,
   "id": "527f145b-4494-4add-aa09-220173d6f0b9",
   "metadata": {},
   "outputs": [
    {
     "data": {
      "text/plain": [
       "<bound method NDFrame.describe of               date   open   high    low  close    volume Name\n",
       "0       2013-02-08  15.07  15.12  14.63  14.75   8407500  AAL\n",
       "1       2013-02-11  14.89  15.01  14.26  14.46   8882000  AAL\n",
       "2       2013-02-12  14.45  14.51  14.10  14.27   8126000  AAL\n",
       "3       2013-02-13  14.30  14.94  14.25  14.66  10259500  AAL\n",
       "4       2013-02-14  14.94  14.96  13.16  13.99  31879900  AAL\n",
       "...            ...    ...    ...    ...    ...       ...  ...\n",
       "619035  2018-02-01  76.84  78.27  76.69  77.82   2982259  ZTS\n",
       "619036  2018-02-02  77.53  78.12  76.73  76.78   2595187  ZTS\n",
       "619037  2018-02-05  76.64  76.92  73.18  73.83   2962031  ZTS\n",
       "619038  2018-02-06  72.74  74.56  72.13  73.27   4924323  ZTS\n",
       "619039  2018-02-07  72.70  75.00  72.69  73.86   4534912  ZTS\n",
       "\n",
       "[619040 rows x 7 columns]>"
      ]
     },
     "execution_count": 8,
     "metadata": {},
     "output_type": "execute_result"
    }
   ],
   "source": [
    "s500_dat.describe"
   ]
  },
  {
   "cell_type": "code",
   "execution_count": 9,
   "id": "2a973e6d-3c70-4a66-89a4-1126263d5e9b",
   "metadata": {},
   "outputs": [],
   "source": [
    "#See if this dataset includes TSLA stocks\n",
    "\n",
    "#unique_count = s500_dat['Name'].unique()\n",
    "#for name in unique_count:\n",
    "#    print(name)\n",
    "\n",
    "\n",
    "#Code ran and it doesn't include Stocks from TSLA"
   ]
  },
  {
   "cell_type": "code",
   "execution_count": 10,
   "id": "ae20b486-f864-43bf-bae2-376ba65e2855",
   "metadata": {},
   "outputs": [
    {
     "data": {
      "text/plain": [
       "(619040, 7)"
      ]
     },
     "execution_count": 10,
     "metadata": {},
     "output_type": "execute_result"
    }
   ],
   "source": [
    "s500_dat.shape"
   ]
  },
  {
   "cell_type": "code",
   "execution_count": 11,
   "id": "50992a6c-63d4-47e8-978a-b17bc106ef76",
   "metadata": {},
   "outputs": [
    {
     "data": {
      "text/plain": [
       "'2013-02-08'"
      ]
     },
     "execution_count": 11,
     "metadata": {},
     "output_type": "execute_result"
    }
   ],
   "source": [
    "s500_dat['date'].min()"
   ]
  },
  {
   "cell_type": "code",
   "execution_count": 12,
   "id": "af7210a2-ce3d-457e-b379-8b1d8505361d",
   "metadata": {},
   "outputs": [
    {
     "data": {
      "text/plain": [
       "'2018-02-07'"
      ]
     },
     "execution_count": 12,
     "metadata": {},
     "output_type": "execute_result"
    }
   ],
   "source": [
    "s500_dat['date'].max()"
   ]
  },
  {
   "cell_type": "markdown",
   "id": "b06a493e-8f41-43ab-bae2-8685b28b84e3",
   "metadata": {},
   "source": [
    "**Note**: Since the format is Y/M/D, the data ranges from the start of Feburary 2013 to Feburary 2018, for a total of 5 years."
   ]
  },
  {
   "cell_type": "markdown",
   "id": "08538ab8-368f-4296-9fe7-577fede71d24",
   "metadata": {},
   "source": [
    "## Discovering Seperate Measurements"
   ]
  },
  {
   "cell_type": "markdown",
   "id": "048615ce-7fa9-4e04-a217-f227fca7e809",
   "metadata": {},
   "source": [
    "Since the Tesla dataset doesn't include any non-date categorical variables, we can ignore that and perform EDA on the S&P 500 dataset."
   ]
  },
  {
   "cell_type": "code",
   "execution_count": 13,
   "id": "f6280816-d315-41ba-a25f-9b72f1cd1579",
   "metadata": {},
   "outputs": [
    {
     "data": {
      "text/html": [
       "<div>\n",
       "<style scoped>\n",
       "    .dataframe tbody tr th:only-of-type {\n",
       "        vertical-align: middle;\n",
       "    }\n",
       "\n",
       "    .dataframe tbody tr th {\n",
       "        vertical-align: top;\n",
       "    }\n",
       "\n",
       "    .dataframe thead th {\n",
       "        text-align: right;\n",
       "    }\n",
       "</style>\n",
       "<table border=\"1\" class=\"dataframe\">\n",
       "  <thead>\n",
       "    <tr style=\"text-align: right;\">\n",
       "      <th></th>\n",
       "      <th>date</th>\n",
       "      <th>open</th>\n",
       "      <th>high</th>\n",
       "      <th>low</th>\n",
       "      <th>close</th>\n",
       "      <th>volume</th>\n",
       "      <th>Name</th>\n",
       "    </tr>\n",
       "  </thead>\n",
       "  <tbody>\n",
       "    <tr>\n",
       "      <th>0</th>\n",
       "      <td>2013-02-08</td>\n",
       "      <td>15.07</td>\n",
       "      <td>15.1200</td>\n",
       "      <td>14.630</td>\n",
       "      <td>14.75</td>\n",
       "      <td>8407500</td>\n",
       "      <td>AAL</td>\n",
       "    </tr>\n",
       "    <tr>\n",
       "      <th>508224</th>\n",
       "      <td>2013-02-08</td>\n",
       "      <td>81.22</td>\n",
       "      <td>81.9300</td>\n",
       "      <td>80.940</td>\n",
       "      <td>81.89</td>\n",
       "      <td>296853</td>\n",
       "      <td>SLG</td>\n",
       "    </tr>\n",
       "    <tr>\n",
       "      <th>506965</th>\n",
       "      <td>2013-02-08</td>\n",
       "      <td>78.24</td>\n",
       "      <td>79.0700</td>\n",
       "      <td>78.125</td>\n",
       "      <td>79.07</td>\n",
       "      <td>4632684</td>\n",
       "      <td>SLB</td>\n",
       "    </tr>\n",
       "    <tr>\n",
       "      <th>85755</th>\n",
       "      <td>2013-02-08</td>\n",
       "      <td>236.64</td>\n",
       "      <td>238.6924</td>\n",
       "      <td>235.750</td>\n",
       "      <td>238.16</td>\n",
       "      <td>552207</td>\n",
       "      <td>BLK</td>\n",
       "    </tr>\n",
       "    <tr>\n",
       "      <th>505706</th>\n",
       "      <td>2013-02-08</td>\n",
       "      <td>89.04</td>\n",
       "      <td>89.4800</td>\n",
       "      <td>88.910</td>\n",
       "      <td>89.16</td>\n",
       "      <td>554948</td>\n",
       "      <td>SJM</td>\n",
       "    </tr>\n",
       "  </tbody>\n",
       "</table>\n",
       "</div>"
      ],
      "text/plain": [
       "              date    open      high      low   close   volume Name\n",
       "0       2013-02-08   15.07   15.1200   14.630   14.75  8407500  AAL\n",
       "508224  2013-02-08   81.22   81.9300   80.940   81.89   296853  SLG\n",
       "506965  2013-02-08   78.24   79.0700   78.125   79.07  4632684  SLB\n",
       "85755   2013-02-08  236.64  238.6924  235.750  238.16   552207  BLK\n",
       "505706  2013-02-08   89.04   89.4800   88.910   89.16   554948  SJM"
      ]
     },
     "execution_count": 13,
     "metadata": {},
     "output_type": "execute_result"
    }
   ],
   "source": [
    "s500_dat.sort_values(by=\"date\").head()"
   ]
  },
  {
   "cell_type": "markdown",
   "id": "a6074ea6-5504-4e7f-8fcc-31e5d84fb1b9",
   "metadata": {},
   "source": [
    "From the above, we definitely see stock prices flucutating on the same date for different names, now lets group by names"
   ]
  },
  {
   "cell_type": "code",
   "execution_count": 14,
   "id": "23e29e36-012f-4a66-bf59-2806453c61d1",
   "metadata": {},
   "outputs": [
    {
     "data": {
      "text/html": [
       "<div>\n",
       "<style scoped>\n",
       "    .dataframe tbody tr th:only-of-type {\n",
       "        vertical-align: middle;\n",
       "    }\n",
       "\n",
       "    .dataframe tbody tr th {\n",
       "        vertical-align: top;\n",
       "    }\n",
       "\n",
       "    .dataframe thead th {\n",
       "        text-align: right;\n",
       "    }\n",
       "</style>\n",
       "<table border=\"1\" class=\"dataframe\">\n",
       "  <thead>\n",
       "    <tr style=\"text-align: right;\">\n",
       "      <th></th>\n",
       "      <th>date</th>\n",
       "      <th>open</th>\n",
       "      <th>high</th>\n",
       "      <th>low</th>\n",
       "      <th>close</th>\n",
       "      <th>volume</th>\n",
       "      <th>Name</th>\n",
       "    </tr>\n",
       "  </thead>\n",
       "  <tbody>\n",
       "    <tr>\n",
       "      <th>71611</th>\n",
       "      <td>2013-02-08</td>\n",
       "      <td>45.07</td>\n",
       "      <td>45.35</td>\n",
       "      <td>45.00</td>\n",
       "      <td>45.08</td>\n",
       "      <td>1824755</td>\n",
       "      <td>A</td>\n",
       "    </tr>\n",
       "    <tr>\n",
       "      <th>71612</th>\n",
       "      <td>2013-02-11</td>\n",
       "      <td>45.17</td>\n",
       "      <td>45.18</td>\n",
       "      <td>44.45</td>\n",
       "      <td>44.60</td>\n",
       "      <td>2915405</td>\n",
       "      <td>A</td>\n",
       "    </tr>\n",
       "    <tr>\n",
       "      <th>71613</th>\n",
       "      <td>2013-02-12</td>\n",
       "      <td>44.81</td>\n",
       "      <td>44.95</td>\n",
       "      <td>44.50</td>\n",
       "      <td>44.62</td>\n",
       "      <td>2373731</td>\n",
       "      <td>A</td>\n",
       "    </tr>\n",
       "    <tr>\n",
       "      <th>71614</th>\n",
       "      <td>2013-02-13</td>\n",
       "      <td>44.81</td>\n",
       "      <td>45.24</td>\n",
       "      <td>44.68</td>\n",
       "      <td>44.75</td>\n",
       "      <td>2052338</td>\n",
       "      <td>A</td>\n",
       "    </tr>\n",
       "    <tr>\n",
       "      <th>71615</th>\n",
       "      <td>2013-02-14</td>\n",
       "      <td>44.72</td>\n",
       "      <td>44.78</td>\n",
       "      <td>44.36</td>\n",
       "      <td>44.58</td>\n",
       "      <td>3826245</td>\n",
       "      <td>A</td>\n",
       "    </tr>\n",
       "  </tbody>\n",
       "</table>\n",
       "</div>"
      ],
      "text/plain": [
       "             date   open   high    low  close   volume Name\n",
       "71611  2013-02-08  45.07  45.35  45.00  45.08  1824755    A\n",
       "71612  2013-02-11  45.17  45.18  44.45  44.60  2915405    A\n",
       "71613  2013-02-12  44.81  44.95  44.50  44.62  2373731    A\n",
       "71614  2013-02-13  44.81  45.24  44.68  44.75  2052338    A\n",
       "71615  2013-02-14  44.72  44.78  44.36  44.58  3826245    A"
      ]
     },
     "execution_count": 14,
     "metadata": {},
     "output_type": "execute_result"
    }
   ],
   "source": [
    "s500_dat.sort_values(by=[\"Name\", \"date\"]).head()"
   ]
  },
  {
   "cell_type": "markdown",
   "id": "3c41f2ef-8b04-4230-8292-52cda7d61d81",
   "metadata": {},
   "source": [
    "Since we see that we have a sequence of dates with a single row per date, we can see that we have seperate timeseries for each combinations of `Name`.  This make sense as S&P 500 is an index fund composed of many stocks in the stock market.  To simplify the project, we will split the data to only analyze data that is from the **top 4 highest volumes** of trades."
   ]
  },
  {
   "cell_type": "markdown",
   "id": "d0b5687d-b32a-4ca3-9281-6f31167117fb",
   "metadata": {},
   "source": [
    "## Finding the Markets with Highest Trade Volume"
   ]
  },
  {
   "cell_type": "markdown",
   "id": "68f458e8-73f9-4b38-b3d1-ad4831484fcd",
   "metadata": {},
   "source": [
    "### Data Cleaning"
   ]
  },
  {
   "cell_type": "code",
   "execution_count": 15,
   "id": "ebd7b00f-3c0c-46ac-b398-0f5de68d9d04",
   "metadata": {},
   "outputs": [],
   "source": [
    "##Convert to datetime\n",
    "tesla_dat[\"Date\"] = pd.to_datetime(tesla_dat[\"Date\"])\n",
    "s500_dat[\"date\"] = pd.to_datetime(s500_dat[\"date\"])"
   ]
  },
  {
   "cell_type": "code",
   "execution_count": 16,
   "id": "9ef39c6d-a2cc-4227-b0ee-81dc248c29b7",
   "metadata": {},
   "outputs": [
    {
     "name": "stdout",
     "output_type": "stream",
     "text": [
      "<class 'pandas.core.frame.DataFrame'>\n",
      "Int64Index: 619029 entries, 0 to 619039\n",
      "Data columns (total 7 columns):\n",
      " #   Column  Non-Null Count   Dtype         \n",
      "---  ------  --------------   -----         \n",
      " 0   date    619029 non-null  datetime64[ns]\n",
      " 1   open    619029 non-null  float64       \n",
      " 2   high    619029 non-null  float64       \n",
      " 3   low     619029 non-null  float64       \n",
      " 4   close   619029 non-null  float64       \n",
      " 5   volume  619029 non-null  int64         \n",
      " 6   ticks   619029 non-null  object        \n",
      "dtypes: datetime64[ns](1), float64(4), int64(1), object(1)\n",
      "memory usage: 37.8+ MB\n"
     ]
    },
    {
     "name": "stderr",
     "output_type": "stream",
     "text": [
      "C:\\Users\\vince\\AppData\\Local\\Temp\\ipykernel_14420\\3230567191.py:11: DeprecationWarning: In a future version, `df.iloc[:, i] = newvals` will attempt to set the values inplace instead of always setting a new array. To retain the old behavior, use either `df[df.columns[i]] = newvals` or, if columns are non-unique, `df.isetitem(i, newvals)`\n",
      "  new_df.loc[:, 'date'] = pd.to_datetime(rdf.loc[:, 'date'], format='%Y/%m/%d')\n"
     ]
    }
   ],
   "source": [
    "#Code taken from Kaggle Notebook https://www.kaggle.com/code/avikumart/timeseries-stock-price-analysis-forecasting\n",
    "\n",
    "# rename Name to ticks\n",
    "rdf = s500_dat.rename(columns={'Name':'ticks'})\n",
    "\n",
    "# drop the null as they a few values and time-series won't be affected by such values\n",
    "rdf.dropna(inplace=True)\n",
    "\n",
    "# change the dtype of date column\n",
    "new_df = rdf.copy()\n",
    "new_df.loc[:, 'date'] = pd.to_datetime(rdf.loc[:, 'date'], format='%Y/%m/%d')\n",
    "\n",
    "new_df.info()"
   ]
  },
  {
   "cell_type": "markdown",
   "id": "b6ddbfa1-cfef-4ab4-98ca-66911d34d277",
   "metadata": {},
   "source": [
    "### Finding Highest Mean Volume"
   ]
  },
  {
   "cell_type": "code",
   "execution_count": 17,
   "id": "a8827c2e-6ac6-4ba0-bee3-6ae0471fd0a8",
   "metadata": {},
   "outputs": [
    {
     "name": "stdout",
     "output_type": "stream",
     "text": [
      "Length of the mean of ticks dictionary: 505\n",
      "Top 4 company tickers with highest average traded stock volume:\n",
      " Index(['BAC', 'AAPL', 'GE', 'F'], dtype='object')\n"
     ]
    }
   ],
   "source": [
    "# find the average volume of each stocks using function and sort top 4 most traded stocks for further analysis \n",
    "mean_dict = {}\n",
    "\n",
    "# find average of volume traded over a period of time using for loops\n",
    "for key in new_df['ticks'].unique():\n",
    "    value = new_df[new_df['ticks'] == key ]['volume'].mean()\n",
    "    mean_dict[key]= value\n",
    "\n",
    "print(\"Length of the mean of ticks dictionary:\", len(mean_dict))\n",
    "\n",
    "# convert dict to pandas dataframe\n",
    "avaerage_s = pd.Series(mean_dict).transpose()\n",
    "top4_s = avaerage_s.sort_values(ascending=False)[:4]\n",
    "\n",
    "print(\"Top 4 company tickers with highest average traded stock volume:\\n\", top4_s.index)"
   ]
  },
  {
   "cell_type": "markdown",
   "id": "5f55ec89-405a-4578-beb4-6d93370ea59b",
   "metadata": {},
   "source": [
    "### Dividing the Dataframes"
   ]
  },
  {
   "cell_type": "markdown",
   "id": "685225d7-682b-44ce-9543-f8850f2bdc61",
   "metadata": {},
   "source": [
    "From the code above, we see that the markets with the highest volume are:\n",
    "1. Bank of America\n",
    "2. Apple\n",
    "3. General Electric\n",
    "4. Ford Motor Company\n",
    "\n",
    "We will then divide the dataframes accordingly:"
   ]
  },
  {
   "cell_type": "code",
   "execution_count": 18,
   "id": "be6b9a44-5321-4673-a523-e93dfb0fbea9",
   "metadata": {},
   "outputs": [
    {
     "data": {
      "text/html": [
       "<div>\n",
       "<style scoped>\n",
       "    .dataframe tbody tr th:only-of-type {\n",
       "        vertical-align: middle;\n",
       "    }\n",
       "\n",
       "    .dataframe tbody tr th {\n",
       "        vertical-align: top;\n",
       "    }\n",
       "\n",
       "    .dataframe thead th {\n",
       "        text-align: right;\n",
       "    }\n",
       "</style>\n",
       "<table border=\"1\" class=\"dataframe\">\n",
       "  <thead>\n",
       "    <tr style=\"text-align: right;\">\n",
       "      <th></th>\n",
       "      <th>date</th>\n",
       "      <th>open</th>\n",
       "      <th>high</th>\n",
       "      <th>low</th>\n",
       "      <th>close</th>\n",
       "      <th>volume</th>\n",
       "      <th>Name</th>\n",
       "    </tr>\n",
       "  </thead>\n",
       "  <tbody>\n",
       "    <tr>\n",
       "      <th>72870</th>\n",
       "      <td>2013-02-08</td>\n",
       "      <td>11.86</td>\n",
       "      <td>11.90</td>\n",
       "      <td>11.72</td>\n",
       "      <td>11.760</td>\n",
       "      <td>145217221</td>\n",
       "      <td>BAC</td>\n",
       "    </tr>\n",
       "    <tr>\n",
       "      <th>72871</th>\n",
       "      <td>2013-02-11</td>\n",
       "      <td>11.73</td>\n",
       "      <td>11.90</td>\n",
       "      <td>11.67</td>\n",
       "      <td>11.860</td>\n",
       "      <td>103499848</td>\n",
       "      <td>BAC</td>\n",
       "    </tr>\n",
       "    <tr>\n",
       "      <th>72872</th>\n",
       "      <td>2013-02-12</td>\n",
       "      <td>11.87</td>\n",
       "      <td>12.34</td>\n",
       "      <td>11.78</td>\n",
       "      <td>12.245</td>\n",
       "      <td>231771561</td>\n",
       "      <td>BAC</td>\n",
       "    </tr>\n",
       "    <tr>\n",
       "      <th>72873</th>\n",
       "      <td>2013-02-13</td>\n",
       "      <td>12.35</td>\n",
       "      <td>12.42</td>\n",
       "      <td>12.05</td>\n",
       "      <td>12.170</td>\n",
       "      <td>192478919</td>\n",
       "      <td>BAC</td>\n",
       "    </tr>\n",
       "    <tr>\n",
       "      <th>72874</th>\n",
       "      <td>2013-02-14</td>\n",
       "      <td>12.09</td>\n",
       "      <td>12.27</td>\n",
       "      <td>12.07</td>\n",
       "      <td>12.130</td>\n",
       "      <td>143901737</td>\n",
       "      <td>BAC</td>\n",
       "    </tr>\n",
       "  </tbody>\n",
       "</table>\n",
       "</div>"
      ],
      "text/plain": [
       "            date   open   high    low   close     volume Name\n",
       "72870 2013-02-08  11.86  11.90  11.72  11.760  145217221  BAC\n",
       "72871 2013-02-11  11.73  11.90  11.67  11.860  103499848  BAC\n",
       "72872 2013-02-12  11.87  12.34  11.78  12.245  231771561  BAC\n",
       "72873 2013-02-13  12.35  12.42  12.05  12.170  192478919  BAC\n",
       "72874 2013-02-14  12.09  12.27  12.07  12.130  143901737  BAC"
      ]
     },
     "execution_count": 18,
     "metadata": {},
     "output_type": "execute_result"
    }
   ],
   "source": [
    "## Bank of America\n",
    "bac = s500_dat.loc[s500_dat['Name'] == 'BAC']\n",
    "bac.head()"
   ]
  },
  {
   "cell_type": "code",
   "execution_count": 19,
   "id": "5b6add96-7da0-46e0-a73f-612577b616ca",
   "metadata": {},
   "outputs": [
    {
     "data": {
      "text/html": [
       "<div>\n",
       "<style scoped>\n",
       "    .dataframe tbody tr th:only-of-type {\n",
       "        vertical-align: middle;\n",
       "    }\n",
       "\n",
       "    .dataframe tbody tr th {\n",
       "        vertical-align: top;\n",
       "    }\n",
       "\n",
       "    .dataframe thead th {\n",
       "        text-align: right;\n",
       "    }\n",
       "</style>\n",
       "<table border=\"1\" class=\"dataframe\">\n",
       "  <thead>\n",
       "    <tr style=\"text-align: right;\">\n",
       "      <th></th>\n",
       "      <th>date</th>\n",
       "      <th>open</th>\n",
       "      <th>high</th>\n",
       "      <th>low</th>\n",
       "      <th>close</th>\n",
       "      <th>volume</th>\n",
       "      <th>Name</th>\n",
       "    </tr>\n",
       "  </thead>\n",
       "  <tbody>\n",
       "    <tr>\n",
       "      <th>1259</th>\n",
       "      <td>2013-02-08</td>\n",
       "      <td>67.7142</td>\n",
       "      <td>68.4014</td>\n",
       "      <td>66.8928</td>\n",
       "      <td>67.8542</td>\n",
       "      <td>158168416</td>\n",
       "      <td>AAPL</td>\n",
       "    </tr>\n",
       "    <tr>\n",
       "      <th>1260</th>\n",
       "      <td>2013-02-11</td>\n",
       "      <td>68.0714</td>\n",
       "      <td>69.2771</td>\n",
       "      <td>67.6071</td>\n",
       "      <td>68.5614</td>\n",
       "      <td>129029425</td>\n",
       "      <td>AAPL</td>\n",
       "    </tr>\n",
       "    <tr>\n",
       "      <th>1261</th>\n",
       "      <td>2013-02-12</td>\n",
       "      <td>68.5014</td>\n",
       "      <td>68.9114</td>\n",
       "      <td>66.8205</td>\n",
       "      <td>66.8428</td>\n",
       "      <td>151829363</td>\n",
       "      <td>AAPL</td>\n",
       "    </tr>\n",
       "    <tr>\n",
       "      <th>1262</th>\n",
       "      <td>2013-02-13</td>\n",
       "      <td>66.7442</td>\n",
       "      <td>67.6628</td>\n",
       "      <td>66.1742</td>\n",
       "      <td>66.7156</td>\n",
       "      <td>118721995</td>\n",
       "      <td>AAPL</td>\n",
       "    </tr>\n",
       "    <tr>\n",
       "      <th>1263</th>\n",
       "      <td>2013-02-14</td>\n",
       "      <td>66.3599</td>\n",
       "      <td>67.3771</td>\n",
       "      <td>66.2885</td>\n",
       "      <td>66.6556</td>\n",
       "      <td>88809154</td>\n",
       "      <td>AAPL</td>\n",
       "    </tr>\n",
       "  </tbody>\n",
       "</table>\n",
       "</div>"
      ],
      "text/plain": [
       "           date     open     high      low    close     volume  Name\n",
       "1259 2013-02-08  67.7142  68.4014  66.8928  67.8542  158168416  AAPL\n",
       "1260 2013-02-11  68.0714  69.2771  67.6071  68.5614  129029425  AAPL\n",
       "1261 2013-02-12  68.5014  68.9114  66.8205  66.8428  151829363  AAPL\n",
       "1262 2013-02-13  66.7442  67.6628  66.1742  66.7156  118721995  AAPL\n",
       "1263 2013-02-14  66.3599  67.3771  66.2885  66.6556   88809154  AAPL"
      ]
     },
     "execution_count": 19,
     "metadata": {},
     "output_type": "execute_result"
    }
   ],
   "source": [
    "## Apple\n",
    "apple = s500_dat.loc[s500_dat['Name'] == 'AAPL']\n",
    "apple.head()"
   ]
  },
  {
   "cell_type": "code",
   "execution_count": 20,
   "id": "fc15bda0-dcd6-49df-9834-b0e0a2a1ddc1",
   "metadata": {},
   "outputs": [
    {
     "data": {
      "text/html": [
       "<div>\n",
       "<style scoped>\n",
       "    .dataframe tbody tr th:only-of-type {\n",
       "        vertical-align: middle;\n",
       "    }\n",
       "\n",
       "    .dataframe tbody tr th {\n",
       "        vertical-align: top;\n",
       "    }\n",
       "\n",
       "    .dataframe thead th {\n",
       "        text-align: right;\n",
       "    }\n",
       "</style>\n",
       "<table border=\"1\" class=\"dataframe\">\n",
       "  <thead>\n",
       "    <tr style=\"text-align: right;\">\n",
       "      <th></th>\n",
       "      <th>date</th>\n",
       "      <th>open</th>\n",
       "      <th>high</th>\n",
       "      <th>low</th>\n",
       "      <th>close</th>\n",
       "      <th>volume</th>\n",
       "      <th>Name</th>\n",
       "    </tr>\n",
       "  </thead>\n",
       "  <tbody>\n",
       "    <tr>\n",
       "      <th>242754</th>\n",
       "      <td>2013-02-08</td>\n",
       "      <td>22.50</td>\n",
       "      <td>22.56</td>\n",
       "      <td>22.45</td>\n",
       "      <td>22.50</td>\n",
       "      <td>24424506</td>\n",
       "      <td>GE</td>\n",
       "    </tr>\n",
       "    <tr>\n",
       "      <th>242755</th>\n",
       "      <td>2013-02-11</td>\n",
       "      <td>22.49</td>\n",
       "      <td>22.51</td>\n",
       "      <td>22.35</td>\n",
       "      <td>22.45</td>\n",
       "      <td>19738628</td>\n",
       "      <td>GE</td>\n",
       "    </tr>\n",
       "    <tr>\n",
       "      <th>242756</th>\n",
       "      <td>2013-02-12</td>\n",
       "      <td>22.48</td>\n",
       "      <td>22.65</td>\n",
       "      <td>22.48</td>\n",
       "      <td>22.58</td>\n",
       "      <td>34139526</td>\n",
       "      <td>GE</td>\n",
       "    </tr>\n",
       "    <tr>\n",
       "      <th>242757</th>\n",
       "      <td>2013-02-13</td>\n",
       "      <td>23.11</td>\n",
       "      <td>23.48</td>\n",
       "      <td>23.04</td>\n",
       "      <td>23.39</td>\n",
       "      <td>84933955</td>\n",
       "      <td>GE</td>\n",
       "    </tr>\n",
       "    <tr>\n",
       "      <th>242758</th>\n",
       "      <td>2013-02-14</td>\n",
       "      <td>23.25</td>\n",
       "      <td>23.49</td>\n",
       "      <td>23.11</td>\n",
       "      <td>23.41</td>\n",
       "      <td>53990644</td>\n",
       "      <td>GE</td>\n",
       "    </tr>\n",
       "  </tbody>\n",
       "</table>\n",
       "</div>"
      ],
      "text/plain": [
       "             date   open   high    low  close    volume Name\n",
       "242754 2013-02-08  22.50  22.56  22.45  22.50  24424506   GE\n",
       "242755 2013-02-11  22.49  22.51  22.35  22.45  19738628   GE\n",
       "242756 2013-02-12  22.48  22.65  22.48  22.58  34139526   GE\n",
       "242757 2013-02-13  23.11  23.48  23.04  23.39  84933955   GE\n",
       "242758 2013-02-14  23.25  23.49  23.11  23.41  53990644   GE"
      ]
     },
     "execution_count": 20,
     "metadata": {},
     "output_type": "execute_result"
    }
   ],
   "source": [
    "## General Electric\n",
    "ge = s500_dat.loc[s500_dat['Name'] == 'GE']\n",
    "ge.head()"
   ]
  },
  {
   "cell_type": "code",
   "execution_count": 21,
   "id": "aecd5c82-78b0-4ba8-9a5f-db630def68f4",
   "metadata": {},
   "outputs": [
    {
     "data": {
      "text/html": [
       "<div>\n",
       "<style scoped>\n",
       "    .dataframe tbody tr th:only-of-type {\n",
       "        vertical-align: middle;\n",
       "    }\n",
       "\n",
       "    .dataframe tbody tr th {\n",
       "        vertical-align: top;\n",
       "    }\n",
       "\n",
       "    .dataframe thead th {\n",
       "        text-align: right;\n",
       "    }\n",
       "</style>\n",
       "<table border=\"1\" class=\"dataframe\">\n",
       "  <thead>\n",
       "    <tr style=\"text-align: right;\">\n",
       "      <th></th>\n",
       "      <th>date</th>\n",
       "      <th>open</th>\n",
       "      <th>high</th>\n",
       "      <th>low</th>\n",
       "      <th>close</th>\n",
       "      <th>volume</th>\n",
       "      <th>Name</th>\n",
       "    </tr>\n",
       "  </thead>\n",
       "  <tbody>\n",
       "    <tr>\n",
       "      <th>240236</th>\n",
       "      <td>2013-02-08</td>\n",
       "      <td>13.10</td>\n",
       "      <td>13.16</td>\n",
       "      <td>13.05</td>\n",
       "      <td>13.10</td>\n",
       "      <td>18596061</td>\n",
       "      <td>F</td>\n",
       "    </tr>\n",
       "    <tr>\n",
       "      <th>240237</th>\n",
       "      <td>2013-02-11</td>\n",
       "      <td>13.06</td>\n",
       "      <td>13.20</td>\n",
       "      <td>13.02</td>\n",
       "      <td>13.11</td>\n",
       "      <td>17685616</td>\n",
       "      <td>F</td>\n",
       "    </tr>\n",
       "    <tr>\n",
       "      <th>240238</th>\n",
       "      <td>2013-02-12</td>\n",
       "      <td>13.12</td>\n",
       "      <td>13.20</td>\n",
       "      <td>13.05</td>\n",
       "      <td>13.08</td>\n",
       "      <td>26231279</td>\n",
       "      <td>F</td>\n",
       "    </tr>\n",
       "    <tr>\n",
       "      <th>240239</th>\n",
       "      <td>2013-02-13</td>\n",
       "      <td>13.11</td>\n",
       "      <td>13.14</td>\n",
       "      <td>12.99</td>\n",
       "      <td>13.04</td>\n",
       "      <td>24501066</td>\n",
       "      <td>F</td>\n",
       "    </tr>\n",
       "    <tr>\n",
       "      <th>240240</th>\n",
       "      <td>2013-02-14</td>\n",
       "      <td>13.00</td>\n",
       "      <td>13.17</td>\n",
       "      <td>12.96</td>\n",
       "      <td>13.11</td>\n",
       "      <td>33487476</td>\n",
       "      <td>F</td>\n",
       "    </tr>\n",
       "  </tbody>\n",
       "</table>\n",
       "</div>"
      ],
      "text/plain": [
       "             date   open   high    low  close    volume Name\n",
       "240236 2013-02-08  13.10  13.16  13.05  13.10  18596061    F\n",
       "240237 2013-02-11  13.06  13.20  13.02  13.11  17685616    F\n",
       "240238 2013-02-12  13.12  13.20  13.05  13.08  26231279    F\n",
       "240239 2013-02-13  13.11  13.14  12.99  13.04  24501066    F\n",
       "240240 2013-02-14  13.00  13.17  12.96  13.11  33487476    F"
      ]
     },
     "execution_count": 21,
     "metadata": {},
     "output_type": "execute_result"
    }
   ],
   "source": [
    "## Facebook\n",
    "fb = s500_dat.loc[s500_dat['Name'] == 'F']\n",
    "fb.head()"
   ]
  },
  {
   "cell_type": "markdown",
   "id": "ea51058a-06c7-442e-af86-b0072017c0ad",
   "metadata": {},
   "source": [
    "## Splitting the Data"
   ]
  },
  {
   "cell_type": "markdown",
   "id": "3c321f6b-2e17-4fb0-ab5c-dce8712ae47f",
   "metadata": {},
   "source": [
    "Since there is mis-matching in the date ranges, we will focus on the dates the exists in both datasets to handle the differences in dates."
   ]
  },
  {
   "cell_type": "code",
   "execution_count": 22,
   "id": "a254aca5-6db9-4cec-b98c-e284bfb8d10e",
   "metadata": {},
   "outputs": [
    {
     "name": "stdout",
     "output_type": "stream",
     "text": [
      "Tesla Date Range: 2013-02-08 00:00:00 to 2018-02-07 00:00:00\n",
      "S&P 500 Date Range: 2013-02-08 00:00:00 to 2018-02-07 00:00:00\n"
     ]
    }
   ],
   "source": [
    "tesla_dat = tesla_dat[(tesla_dat['Date'] >= '2013-02-08') & (tesla_dat['Date'] <= '2018-02-07')]\n",
    "print(\"Tesla Date Range:\", tesla_dat[\"Date\"].min(), \"to\", tesla_dat[\"Date\"].max())\n",
    "print(\"S&P 500 Date Range:\", s500_dat[\"date\"].min(), \"to\", s500_dat[\"date\"].max())"
   ]
  },
  {
   "cell_type": "markdown",
   "id": "2a2a67e8-e145-421b-b5ef-2b129fa34d5a",
   "metadata": {},
   "source": [
    "Now that the dates are matched, we now have a total of 5 years of data from Feburary 2013 to Feburary 2018.  Lets split the data so we have **one year** of testing data for each dataframe."
   ]
  },
  {
   "cell_type": "code",
   "execution_count": 24,
   "id": "1a82e109-14ad-4358-aacb-a3045f91a115",
   "metadata": {},
   "outputs": [
    {
     "name": "stdout",
     "output_type": "stream",
     "text": [
      "Tesla Train Date Range: 2013-02-08 00:00:00 to 2017-02-07 00:00:00\n",
      "Tesla Test Date Range: 2017-02-08 00:00:00 to 2018-02-07 00:00:00\n",
      "Bank of America Train Date Range: 2013-02-08 00:00:00 to 2017-02-07 00:00:00\n",
      "Bank of America Test Date Range: 2017-02-08 00:00:00 to 2018-02-07 00:00:00\n",
      "Apple Date Range: 2013-02-08 00:00:00 to 2017-02-07 00:00:00\n",
      "Apple Test Date Range: 2017-02-08 00:00:00 to 2018-02-07 00:00:00\n",
      "General Electic Date Range: 2013-02-08 00:00:00 to 2017-02-07 00:00:00\n",
      "General Electric Test Date Range: 2017-02-08 00:00:00 to 2018-02-07 00:00:00\n",
      "Facebook Date Range: 2013-02-08 00:00:00 to 2017-02-07 00:00:00\n",
      "Facebook Test Date Range: 2017-02-08 00:00:00 to 2018-02-07 00:00:00\n"
     ]
    }
   ],
   "source": [
    "split_date = pd.to_datetime('20170207', format='%Y%m%d')\n",
    "\n",
    "tesla_train = tesla_dat[tesla_dat[\"Date\"] <= split_date]\n",
    "tesla_test  = tesla_dat[tesla_dat[\"Date\"] >  split_date]\n",
    "\n",
    "bac_train = bac[bac[\"date\"] <= split_date]\n",
    "bac_test = bac[bac[\"date\"] > split_date]\n",
    "\n",
    "apple_train = apple[apple[\"date\"] <= split_date]\n",
    "apple_test = apple[apple[\"date\"] > split_date]\n",
    "\n",
    "ge_train = ge[ge[\"date\"] <= split_date]\n",
    "ge_test = ge[ge[\"date\"] > split_date]\n",
    "\n",
    "fb_train = fb[fb[\"date\"] <= split_date]\n",
    "fb_test = fb[fb[\"date\"] > split_date]\n",
    "\n",
    "print(\"Tesla Train Date Range:\", tesla_train[\"Date\"].min(), \"to\", tesla_train[\"Date\"].max())\n",
    "print(\"Tesla Test Date Range:\", tesla_test[\"Date\"].min(), \"to\", tesla_test[\"Date\"].max())\n",
    "print(\"Bank of America Train Date Range:\", bac_train[\"date\"].min(), \"to\", bac_train[\"date\"].max())\n",
    "print(\"Bank of America Test Date Range:\", bac_test[\"date\"].min(), \"to\", bac_test[\"date\"].max())\n",
    "print(\"Apple Date Range:\", apple_train[\"date\"].min(), \"to\", apple_train[\"date\"].max())\n",
    "print(\"Apple Test Date Range:\", apple_test[\"date\"].min(), \"to\", apple_test[\"date\"].max())\n",
    "print(\"General Electic Date Range:\", ge_train[\"date\"].min(), \"to\", ge_train[\"date\"].max())\n",
    "print(\"General Electric Test Date Range:\", ge_test[\"date\"].min(), \"to\", ge_test[\"date\"].max())\n",
    "print(\"Facebook Date Range:\", fb_train[\"date\"].min(), \"to\", fb_train[\"date\"].max())\n",
    "print(\"Facebook Test Date Range:\", fb_test[\"date\"].min(), \"to\", fb_test[\"date\"].max())"
   ]
  },
  {
   "cell_type": "markdown",
   "id": "a46933a7-61cf-47a6-8581-b40105d72e6a",
   "metadata": {},
   "source": [
    "## Explanatory Data Analysis"
   ]
  },
  {
   "cell_type": "markdown",
   "id": "c07eac64-1570-4036-8c46-0cd68c68f583",
   "metadata": {},
   "source": [
    "Make a bunch of graphs"
   ]
  },
  {
   "cell_type": "code",
   "execution_count": null,
   "id": "fa609a6f-75a8-4345-ae2b-a6460dc86dda",
   "metadata": {},
   "outputs": [],
   "source": []
  }
 ],
 "metadata": {
  "kernelspec": {
   "display_name": "Python 3 (ipykernel)",
   "language": "python",
   "name": "python3"
  },
  "language_info": {
   "codemirror_mode": {
    "name": "ipython",
    "version": 3
   },
   "file_extension": ".py",
   "mimetype": "text/x-python",
   "name": "python",
   "nbconvert_exporter": "python",
   "pygments_lexer": "ipython3",
   "version": "3.8.10"
  }
 },
 "nbformat": 4,
 "nbformat_minor": 5
}
