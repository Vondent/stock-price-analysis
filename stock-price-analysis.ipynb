{
 "cells": [
  {
   "cell_type": "markdown",
   "id": "8a0e3e20-f3f1-40c3-b3b8-f9694eb048fa",
   "metadata": {},
   "source": [
    "# Stock Price Analysis and Comparison"
   ]
  },
  {
   "cell_type": "markdown",
   "id": "b5b8c450-109e-4aa7-857d-de3c13bab815",
   "metadata": {},
   "source": [
    "Vincent Luong\n",
    "\n",
    "Write brief introduction about time series analysis"
   ]
  },
  {
   "cell_type": "code",
   "execution_count": 1,
   "id": "5592b0a1-fa81-45c2-97f7-63fab2ebb341",
   "metadata": {},
   "outputs": [],
   "source": [
    "import numpy as np\n",
    "import pandas as pd\n",
    "from datetime import datetime as dt\n",
    "import matplotlib.pyplot as plt\n",
    "import seaborn as sns\n",
    "%matplotlib inline"
   ]
  },
  {
   "cell_type": "markdown",
   "id": "9092deef-12e9-45d9-be22-f7d15bf2eb2d",
   "metadata": {},
   "source": [
    "## Importing Datasets and Summary Statistics"
   ]
  },
  {
   "cell_type": "markdown",
   "id": "032c6a35-5ad1-4a7c-b7ed-bdf6989f0db0",
   "metadata": {},
   "source": [
    "### Tesla"
   ]
  },
  {
   "cell_type": "code",
   "execution_count": 2,
   "id": "4c40083e-e683-4993-a843-dc7258ce679e",
   "metadata": {},
   "outputs": [
    {
     "data": {
      "text/html": [
       "<div>\n",
       "<style scoped>\n",
       "    .dataframe tbody tr th:only-of-type {\n",
       "        vertical-align: middle;\n",
       "    }\n",
       "\n",
       "    .dataframe tbody tr th {\n",
       "        vertical-align: top;\n",
       "    }\n",
       "\n",
       "    .dataframe thead th {\n",
       "        text-align: right;\n",
       "    }\n",
       "</style>\n",
       "<table border=\"1\" class=\"dataframe\">\n",
       "  <thead>\n",
       "    <tr style=\"text-align: right;\">\n",
       "      <th></th>\n",
       "      <th>Date</th>\n",
       "      <th>Open</th>\n",
       "      <th>High</th>\n",
       "      <th>Low</th>\n",
       "      <th>Close</th>\n",
       "      <th>Volume</th>\n",
       "      <th>Adj Close</th>\n",
       "    </tr>\n",
       "  </thead>\n",
       "  <tbody>\n",
       "    <tr>\n",
       "      <th>0</th>\n",
       "      <td>6/29/2010</td>\n",
       "      <td>19.000000</td>\n",
       "      <td>25.00</td>\n",
       "      <td>17.540001</td>\n",
       "      <td>23.889999</td>\n",
       "      <td>18766300</td>\n",
       "      <td>23.889999</td>\n",
       "    </tr>\n",
       "    <tr>\n",
       "      <th>1</th>\n",
       "      <td>6/30/2010</td>\n",
       "      <td>25.790001</td>\n",
       "      <td>30.42</td>\n",
       "      <td>23.299999</td>\n",
       "      <td>23.830000</td>\n",
       "      <td>17187100</td>\n",
       "      <td>23.830000</td>\n",
       "    </tr>\n",
       "    <tr>\n",
       "      <th>2</th>\n",
       "      <td>7/1/2010</td>\n",
       "      <td>25.000000</td>\n",
       "      <td>25.92</td>\n",
       "      <td>20.270000</td>\n",
       "      <td>21.959999</td>\n",
       "      <td>8218800</td>\n",
       "      <td>21.959999</td>\n",
       "    </tr>\n",
       "    <tr>\n",
       "      <th>3</th>\n",
       "      <td>7/2/2010</td>\n",
       "      <td>23.000000</td>\n",
       "      <td>23.10</td>\n",
       "      <td>18.709999</td>\n",
       "      <td>19.200001</td>\n",
       "      <td>5139800</td>\n",
       "      <td>19.200001</td>\n",
       "    </tr>\n",
       "    <tr>\n",
       "      <th>4</th>\n",
       "      <td>7/6/2010</td>\n",
       "      <td>20.000000</td>\n",
       "      <td>20.00</td>\n",
       "      <td>15.830000</td>\n",
       "      <td>16.110001</td>\n",
       "      <td>6866900</td>\n",
       "      <td>16.110001</td>\n",
       "    </tr>\n",
       "  </tbody>\n",
       "</table>\n",
       "</div>"
      ],
      "text/plain": [
       "        Date       Open   High        Low      Close    Volume  Adj Close\n",
       "0  6/29/2010  19.000000  25.00  17.540001  23.889999  18766300  23.889999\n",
       "1  6/30/2010  25.790001  30.42  23.299999  23.830000  17187100  23.830000\n",
       "2   7/1/2010  25.000000  25.92  20.270000  21.959999   8218800  21.959999\n",
       "3   7/2/2010  23.000000  23.10  18.709999  19.200001   5139800  19.200001\n",
       "4   7/6/2010  20.000000  20.00  15.830000  16.110001   6866900  16.110001"
      ]
     },
     "execution_count": 2,
     "metadata": {},
     "output_type": "execute_result"
    }
   ],
   "source": [
    "tesla_dat = pd.read_csv('data/tesla.csv')\n",
    "tesla_dat.head()"
   ]
  },
  {
   "cell_type": "markdown",
   "id": "7141ec24-aeb2-463b-8fd6-ad3b60e91dd1",
   "metadata": {},
   "source": [
    "From the tesla dataset, we have 7 features (1 categorical and 6 numerical):\n",
    "\n",
    "-`Date`: The date M/D/Y<br>\n",
    "-`Open`: The opening price of stock (in USD) <br>\n",
    "-`High`: The high price of that day (in USD) <br>\n",
    "-`Low`: The low price of that day (in USD) <br> \n",
    "-`Close`: The closed price of that day (in USD) <br>\n",
    "-`Volume`: The amount of stocks traded during that day <br>\n",
    "-`Adj Close`: The stock's closing price that has been amended to include any distributions/coporate actions that occurs before next days open (in USD) <br>"
   ]
  },
  {
   "cell_type": "code",
   "execution_count": 3,
   "id": "ff908985-c1a1-4fa9-be03-a036f4eaac1a",
   "metadata": {},
   "outputs": [
    {
     "data": {
      "text/plain": [
       "<bound method NDFrame.describe of            Date        Open        High         Low       Close    Volume  \\\n",
       "0     6/29/2010   19.000000   25.000000   17.540001   23.889999  18766300   \n",
       "1     6/30/2010   25.790001   30.420000   23.299999   23.830000  17187100   \n",
       "2      7/1/2010   25.000000   25.920000   20.270000   21.959999   8218800   \n",
       "3      7/2/2010   23.000000   23.100000   18.709999   19.200001   5139800   \n",
       "4      7/6/2010   20.000000   20.000000   15.830000   16.110001   6866900   \n",
       "...         ...         ...         ...         ...         ...       ...   \n",
       "1687  3/13/2017  244.820007  246.850006  242.779999  246.169998   3010700   \n",
       "1688  3/14/2017  246.110001  258.119995  246.020004  258.000000   7575500   \n",
       "1689  3/15/2017  257.000000  261.000000  254.270004  255.729996   4816600   \n",
       "1690  3/16/2017  262.399994  265.750000  259.059998  262.049988   7100400   \n",
       "1691  3/17/2017  264.000000  265.329987  261.200012  261.500000   6475900   \n",
       "\n",
       "       Adj Close  \n",
       "0      23.889999  \n",
       "1      23.830000  \n",
       "2      21.959999  \n",
       "3      19.200001  \n",
       "4      16.110001  \n",
       "...          ...  \n",
       "1687  246.169998  \n",
       "1688  258.000000  \n",
       "1689  255.729996  \n",
       "1690  262.049988  \n",
       "1691  261.500000  \n",
       "\n",
       "[1692 rows x 7 columns]>"
      ]
     },
     "execution_count": 3,
     "metadata": {},
     "output_type": "execute_result"
    }
   ],
   "source": [
    "tesla_dat.describe"
   ]
  },
  {
   "cell_type": "code",
   "execution_count": 4,
   "id": "f3044a93-6d42-46d2-8371-9a8247b7aa3a",
   "metadata": {},
   "outputs": [
    {
     "data": {
      "text/plain": [
       "(1692, 7)"
      ]
     },
     "execution_count": 4,
     "metadata": {},
     "output_type": "execute_result"
    }
   ],
   "source": [
    "tesla_dat.shape"
   ]
  },
  {
   "cell_type": "code",
   "execution_count": 5,
   "id": "f99c3087-4fc8-42db-afd6-26d4e80f4881",
   "metadata": {},
   "outputs": [
    {
     "data": {
      "text/plain": [
       "'1/10/2011'"
      ]
     },
     "execution_count": 5,
     "metadata": {},
     "output_type": "execute_result"
    }
   ],
   "source": [
    "tesla_dat['Date'].min()"
   ]
  },
  {
   "cell_type": "code",
   "execution_count": 6,
   "id": "11fb3cdd-15af-4759-a221-c24c3ac76091",
   "metadata": {},
   "outputs": [
    {
     "data": {
      "text/plain": [
       "'9/9/2016'"
      ]
     },
     "execution_count": 6,
     "metadata": {},
     "output_type": "execute_result"
    }
   ],
   "source": [
    "tesla_dat['Date'].max()"
   ]
  },
  {
   "cell_type": "markdown",
   "id": "6e6276aa-5ec8-4ec8-8694-280cb56a3cf2",
   "metadata": {},
   "source": [
    "**Note**: Since the format is M/D/Y, it looks like the data ranges from the start of January 2011 to September 2016, for a total of 5.5 years."
   ]
  },
  {
   "cell_type": "markdown",
   "id": "cb63c39b-5b0e-4ea0-870d-e6a68441cd65",
   "metadata": {},
   "source": [
    "### S&P 500 "
   ]
  },
  {
   "cell_type": "code",
   "execution_count": 7,
   "id": "1248b5d5-0467-4892-a1c5-5d5c0487c4f8",
   "metadata": {},
   "outputs": [
    {
     "data": {
      "text/html": [
       "<div>\n",
       "<style scoped>\n",
       "    .dataframe tbody tr th:only-of-type {\n",
       "        vertical-align: middle;\n",
       "    }\n",
       "\n",
       "    .dataframe tbody tr th {\n",
       "        vertical-align: top;\n",
       "    }\n",
       "\n",
       "    .dataframe thead th {\n",
       "        text-align: right;\n",
       "    }\n",
       "</style>\n",
       "<table border=\"1\" class=\"dataframe\">\n",
       "  <thead>\n",
       "    <tr style=\"text-align: right;\">\n",
       "      <th></th>\n",
       "      <th>date</th>\n",
       "      <th>open</th>\n",
       "      <th>high</th>\n",
       "      <th>low</th>\n",
       "      <th>close</th>\n",
       "      <th>volume</th>\n",
       "      <th>Name</th>\n",
       "    </tr>\n",
       "  </thead>\n",
       "  <tbody>\n",
       "    <tr>\n",
       "      <th>0</th>\n",
       "      <td>2013-02-08</td>\n",
       "      <td>15.07</td>\n",
       "      <td>15.12</td>\n",
       "      <td>14.63</td>\n",
       "      <td>14.75</td>\n",
       "      <td>8407500</td>\n",
       "      <td>AAL</td>\n",
       "    </tr>\n",
       "    <tr>\n",
       "      <th>1</th>\n",
       "      <td>2013-02-11</td>\n",
       "      <td>14.89</td>\n",
       "      <td>15.01</td>\n",
       "      <td>14.26</td>\n",
       "      <td>14.46</td>\n",
       "      <td>8882000</td>\n",
       "      <td>AAL</td>\n",
       "    </tr>\n",
       "    <tr>\n",
       "      <th>2</th>\n",
       "      <td>2013-02-12</td>\n",
       "      <td>14.45</td>\n",
       "      <td>14.51</td>\n",
       "      <td>14.10</td>\n",
       "      <td>14.27</td>\n",
       "      <td>8126000</td>\n",
       "      <td>AAL</td>\n",
       "    </tr>\n",
       "    <tr>\n",
       "      <th>3</th>\n",
       "      <td>2013-02-13</td>\n",
       "      <td>14.30</td>\n",
       "      <td>14.94</td>\n",
       "      <td>14.25</td>\n",
       "      <td>14.66</td>\n",
       "      <td>10259500</td>\n",
       "      <td>AAL</td>\n",
       "    </tr>\n",
       "    <tr>\n",
       "      <th>4</th>\n",
       "      <td>2013-02-14</td>\n",
       "      <td>14.94</td>\n",
       "      <td>14.96</td>\n",
       "      <td>13.16</td>\n",
       "      <td>13.99</td>\n",
       "      <td>31879900</td>\n",
       "      <td>AAL</td>\n",
       "    </tr>\n",
       "  </tbody>\n",
       "</table>\n",
       "</div>"
      ],
      "text/plain": [
       "         date   open   high    low  close    volume Name\n",
       "0  2013-02-08  15.07  15.12  14.63  14.75   8407500  AAL\n",
       "1  2013-02-11  14.89  15.01  14.26  14.46   8882000  AAL\n",
       "2  2013-02-12  14.45  14.51  14.10  14.27   8126000  AAL\n",
       "3  2013-02-13  14.30  14.94  14.25  14.66  10259500  AAL\n",
       "4  2013-02-14  14.94  14.96  13.16  13.99  31879900  AAL"
      ]
     },
     "execution_count": 7,
     "metadata": {},
     "output_type": "execute_result"
    }
   ],
   "source": [
    "s500_dat = pd.read_csv('data/s500.csv')\n",
    "s500_dat.head()"
   ]
  },
  {
   "cell_type": "markdown",
   "id": "182d03dc-469e-4dbf-81d8-0d5ef18c2e87",
   "metadata": {},
   "source": [
    "From the S&P 500 dataset, we also have 7 features.  With 5 numerical features and 2 categorical features we have the following:\n",
    "\n",
    "-`date`: The date Y-M-D <br>\n",
    "-`open`: Price of the stock at market open (in USD) <br>\n",
    "-`high`: Highest price reached that day (in USD) <br>\n",
    "-`low`: lowest price reached in the day (in USD) <br>\n",
    "-`Volume`: Number of shares traded <br>\n",
    "-`Name`: The stock's ticker name"
   ]
  },
  {
   "cell_type": "code",
   "execution_count": 8,
   "id": "527f145b-4494-4add-aa09-220173d6f0b9",
   "metadata": {},
   "outputs": [
    {
     "data": {
      "text/plain": [
       "<bound method NDFrame.describe of               date   open   high    low  close    volume Name\n",
       "0       2013-02-08  15.07  15.12  14.63  14.75   8407500  AAL\n",
       "1       2013-02-11  14.89  15.01  14.26  14.46   8882000  AAL\n",
       "2       2013-02-12  14.45  14.51  14.10  14.27   8126000  AAL\n",
       "3       2013-02-13  14.30  14.94  14.25  14.66  10259500  AAL\n",
       "4       2013-02-14  14.94  14.96  13.16  13.99  31879900  AAL\n",
       "...            ...    ...    ...    ...    ...       ...  ...\n",
       "619035  2018-02-01  76.84  78.27  76.69  77.82   2982259  ZTS\n",
       "619036  2018-02-02  77.53  78.12  76.73  76.78   2595187  ZTS\n",
       "619037  2018-02-05  76.64  76.92  73.18  73.83   2962031  ZTS\n",
       "619038  2018-02-06  72.74  74.56  72.13  73.27   4924323  ZTS\n",
       "619039  2018-02-07  72.70  75.00  72.69  73.86   4534912  ZTS\n",
       "\n",
       "[619040 rows x 7 columns]>"
      ]
     },
     "execution_count": 8,
     "metadata": {},
     "output_type": "execute_result"
    }
   ],
   "source": [
    "s500_dat.describe"
   ]
  },
  {
   "cell_type": "code",
   "execution_count": 9,
   "id": "2a973e6d-3c70-4a66-89a4-1126263d5e9b",
   "metadata": {},
   "outputs": [],
   "source": [
    "#See if this dataset includes TSLA stocks\n",
    "\n",
    "#unique_count = s500_dat['Name'].unique()\n",
    "#for name in unique_count:\n",
    "#    print(name)\n",
    "\n",
    "\n",
    "#Code ran and it doesn't include Stocks from TSLA"
   ]
  },
  {
   "cell_type": "code",
   "execution_count": 10,
   "id": "ae20b486-f864-43bf-bae2-376ba65e2855",
   "metadata": {},
   "outputs": [
    {
     "data": {
      "text/plain": [
       "(619040, 7)"
      ]
     },
     "execution_count": 10,
     "metadata": {},
     "output_type": "execute_result"
    }
   ],
   "source": [
    "s500_dat.shape"
   ]
  },
  {
   "cell_type": "code",
   "execution_count": 11,
   "id": "50992a6c-63d4-47e8-978a-b17bc106ef76",
   "metadata": {},
   "outputs": [
    {
     "data": {
      "text/plain": [
       "'2013-02-08'"
      ]
     },
     "execution_count": 11,
     "metadata": {},
     "output_type": "execute_result"
    }
   ],
   "source": [
    "s500_dat['date'].min()"
   ]
  },
  {
   "cell_type": "code",
   "execution_count": 12,
   "id": "af7210a2-ce3d-457e-b379-8b1d8505361d",
   "metadata": {},
   "outputs": [
    {
     "data": {
      "text/plain": [
       "'2018-02-07'"
      ]
     },
     "execution_count": 12,
     "metadata": {},
     "output_type": "execute_result"
    }
   ],
   "source": [
    "s500_dat['date'].max()"
   ]
  },
  {
   "cell_type": "markdown",
   "id": "b06a493e-8f41-43ab-bae2-8685b28b84e3",
   "metadata": {},
   "source": [
    "**Note**: Since the format is Y/M/D, the data ranges from the start of Feburary 2013 to Feburary 2018, for a total of 5 years."
   ]
  },
  {
   "cell_type": "markdown",
   "id": "08538ab8-368f-4296-9fe7-577fede71d24",
   "metadata": {},
   "source": [
    "## Discovering Seperate Measurements"
   ]
  },
  {
   "cell_type": "markdown",
   "id": "048615ce-7fa9-4e04-a217-f227fca7e809",
   "metadata": {},
   "source": [
    "Since the Tesla dataset doesn't include any non-date categorical variables, we can ignore that and perform EDA on the S&P 500 dataset."
   ]
  },
  {
   "cell_type": "code",
   "execution_count": 13,
   "id": "f6280816-d315-41ba-a25f-9b72f1cd1579",
   "metadata": {},
   "outputs": [
    {
     "data": {
      "text/html": [
       "<div>\n",
       "<style scoped>\n",
       "    .dataframe tbody tr th:only-of-type {\n",
       "        vertical-align: middle;\n",
       "    }\n",
       "\n",
       "    .dataframe tbody tr th {\n",
       "        vertical-align: top;\n",
       "    }\n",
       "\n",
       "    .dataframe thead th {\n",
       "        text-align: right;\n",
       "    }\n",
       "</style>\n",
       "<table border=\"1\" class=\"dataframe\">\n",
       "  <thead>\n",
       "    <tr style=\"text-align: right;\">\n",
       "      <th></th>\n",
       "      <th>date</th>\n",
       "      <th>open</th>\n",
       "      <th>high</th>\n",
       "      <th>low</th>\n",
       "      <th>close</th>\n",
       "      <th>volume</th>\n",
       "      <th>Name</th>\n",
       "    </tr>\n",
       "  </thead>\n",
       "  <tbody>\n",
       "    <tr>\n",
       "      <th>0</th>\n",
       "      <td>2013-02-08</td>\n",
       "      <td>15.07</td>\n",
       "      <td>15.1200</td>\n",
       "      <td>14.630</td>\n",
       "      <td>14.75</td>\n",
       "      <td>8407500</td>\n",
       "      <td>AAL</td>\n",
       "    </tr>\n",
       "    <tr>\n",
       "      <th>508224</th>\n",
       "      <td>2013-02-08</td>\n",
       "      <td>81.22</td>\n",
       "      <td>81.9300</td>\n",
       "      <td>80.940</td>\n",
       "      <td>81.89</td>\n",
       "      <td>296853</td>\n",
       "      <td>SLG</td>\n",
       "    </tr>\n",
       "    <tr>\n",
       "      <th>506965</th>\n",
       "      <td>2013-02-08</td>\n",
       "      <td>78.24</td>\n",
       "      <td>79.0700</td>\n",
       "      <td>78.125</td>\n",
       "      <td>79.07</td>\n",
       "      <td>4632684</td>\n",
       "      <td>SLB</td>\n",
       "    </tr>\n",
       "    <tr>\n",
       "      <th>85755</th>\n",
       "      <td>2013-02-08</td>\n",
       "      <td>236.64</td>\n",
       "      <td>238.6924</td>\n",
       "      <td>235.750</td>\n",
       "      <td>238.16</td>\n",
       "      <td>552207</td>\n",
       "      <td>BLK</td>\n",
       "    </tr>\n",
       "    <tr>\n",
       "      <th>505706</th>\n",
       "      <td>2013-02-08</td>\n",
       "      <td>89.04</td>\n",
       "      <td>89.4800</td>\n",
       "      <td>88.910</td>\n",
       "      <td>89.16</td>\n",
       "      <td>554948</td>\n",
       "      <td>SJM</td>\n",
       "    </tr>\n",
       "  </tbody>\n",
       "</table>\n",
       "</div>"
      ],
      "text/plain": [
       "              date    open      high      low   close   volume Name\n",
       "0       2013-02-08   15.07   15.1200   14.630   14.75  8407500  AAL\n",
       "508224  2013-02-08   81.22   81.9300   80.940   81.89   296853  SLG\n",
       "506965  2013-02-08   78.24   79.0700   78.125   79.07  4632684  SLB\n",
       "85755   2013-02-08  236.64  238.6924  235.750  238.16   552207  BLK\n",
       "505706  2013-02-08   89.04   89.4800   88.910   89.16   554948  SJM"
      ]
     },
     "execution_count": 13,
     "metadata": {},
     "output_type": "execute_result"
    }
   ],
   "source": [
    "s500_dat.sort_values(by=\"date\").head()"
   ]
  },
  {
   "cell_type": "markdown",
   "id": "a6074ea6-5504-4e7f-8fcc-31e5d84fb1b9",
   "metadata": {},
   "source": [
    "From the above, we definitely see stock prices flucutating on the same date for different names, now lets group by names"
   ]
  },
  {
   "cell_type": "code",
   "execution_count": 14,
   "id": "23e29e36-012f-4a66-bf59-2806453c61d1",
   "metadata": {},
   "outputs": [
    {
     "data": {
      "text/html": [
       "<div>\n",
       "<style scoped>\n",
       "    .dataframe tbody tr th:only-of-type {\n",
       "        vertical-align: middle;\n",
       "    }\n",
       "\n",
       "    .dataframe tbody tr th {\n",
       "        vertical-align: top;\n",
       "    }\n",
       "\n",
       "    .dataframe thead th {\n",
       "        text-align: right;\n",
       "    }\n",
       "</style>\n",
       "<table border=\"1\" class=\"dataframe\">\n",
       "  <thead>\n",
       "    <tr style=\"text-align: right;\">\n",
       "      <th></th>\n",
       "      <th>date</th>\n",
       "      <th>open</th>\n",
       "      <th>high</th>\n",
       "      <th>low</th>\n",
       "      <th>close</th>\n",
       "      <th>volume</th>\n",
       "      <th>Name</th>\n",
       "    </tr>\n",
       "  </thead>\n",
       "  <tbody>\n",
       "    <tr>\n",
       "      <th>71611</th>\n",
       "      <td>2013-02-08</td>\n",
       "      <td>45.07</td>\n",
       "      <td>45.35</td>\n",
       "      <td>45.00</td>\n",
       "      <td>45.08</td>\n",
       "      <td>1824755</td>\n",
       "      <td>A</td>\n",
       "    </tr>\n",
       "    <tr>\n",
       "      <th>71612</th>\n",
       "      <td>2013-02-11</td>\n",
       "      <td>45.17</td>\n",
       "      <td>45.18</td>\n",
       "      <td>44.45</td>\n",
       "      <td>44.60</td>\n",
       "      <td>2915405</td>\n",
       "      <td>A</td>\n",
       "    </tr>\n",
       "    <tr>\n",
       "      <th>71613</th>\n",
       "      <td>2013-02-12</td>\n",
       "      <td>44.81</td>\n",
       "      <td>44.95</td>\n",
       "      <td>44.50</td>\n",
       "      <td>44.62</td>\n",
       "      <td>2373731</td>\n",
       "      <td>A</td>\n",
       "    </tr>\n",
       "    <tr>\n",
       "      <th>71614</th>\n",
       "      <td>2013-02-13</td>\n",
       "      <td>44.81</td>\n",
       "      <td>45.24</td>\n",
       "      <td>44.68</td>\n",
       "      <td>44.75</td>\n",
       "      <td>2052338</td>\n",
       "      <td>A</td>\n",
       "    </tr>\n",
       "    <tr>\n",
       "      <th>71615</th>\n",
       "      <td>2013-02-14</td>\n",
       "      <td>44.72</td>\n",
       "      <td>44.78</td>\n",
       "      <td>44.36</td>\n",
       "      <td>44.58</td>\n",
       "      <td>3826245</td>\n",
       "      <td>A</td>\n",
       "    </tr>\n",
       "  </tbody>\n",
       "</table>\n",
       "</div>"
      ],
      "text/plain": [
       "             date   open   high    low  close   volume Name\n",
       "71611  2013-02-08  45.07  45.35  45.00  45.08  1824755    A\n",
       "71612  2013-02-11  45.17  45.18  44.45  44.60  2915405    A\n",
       "71613  2013-02-12  44.81  44.95  44.50  44.62  2373731    A\n",
       "71614  2013-02-13  44.81  45.24  44.68  44.75  2052338    A\n",
       "71615  2013-02-14  44.72  44.78  44.36  44.58  3826245    A"
      ]
     },
     "execution_count": 14,
     "metadata": {},
     "output_type": "execute_result"
    }
   ],
   "source": [
    "s500_dat.sort_values(by=[\"Name\", \"date\"]).head()"
   ]
  },
  {
   "cell_type": "markdown",
   "id": "3c41f2ef-8b04-4230-8292-52cda7d61d81",
   "metadata": {},
   "source": [
    "Since we see that we have a sequence of dates with a single row per date, we can see that we have seperate timeseries for each combinations of `Name`.  This make sense as s&p 500 is an index fund composed of many stocks in the stock market."
   ]
  },
  {
   "cell_type": "markdown",
   "id": "a4728706-17a2-437d-931e-444b60ed5c9b",
   "metadata": {},
   "source": [
    "## Discovering Equally Spaced Measurements"
   ]
  },
  {
   "cell_type": "code",
   "execution_count": 15,
   "id": "415a509e-5932-49a0-8ef3-d2958d337347",
   "metadata": {},
   "outputs": [
    {
     "data": {
      "text/html": [
       "<div>\n",
       "<style scoped>\n",
       "    .dataframe tbody tr th:only-of-type {\n",
       "        vertical-align: middle;\n",
       "    }\n",
       "\n",
       "    .dataframe tbody tr th {\n",
       "        vertical-align: top;\n",
       "    }\n",
       "\n",
       "    .dataframe thead th {\n",
       "        text-align: right;\n",
       "    }\n",
       "</style>\n",
       "<table border=\"1\" class=\"dataframe\">\n",
       "  <thead>\n",
       "    <tr style=\"text-align: right;\">\n",
       "      <th></th>\n",
       "      <th>Date</th>\n",
       "      <th>Open</th>\n",
       "      <th>High</th>\n",
       "      <th>Low</th>\n",
       "      <th>Close</th>\n",
       "      <th>Volume</th>\n",
       "      <th>Adj Close</th>\n",
       "    </tr>\n",
       "  </thead>\n",
       "  <tbody>\n",
       "    <tr>\n",
       "      <th>0</th>\n",
       "      <td>2010-06-29</td>\n",
       "      <td>19.000000</td>\n",
       "      <td>25.00</td>\n",
       "      <td>17.540001</td>\n",
       "      <td>23.889999</td>\n",
       "      <td>18766300</td>\n",
       "      <td>23.889999</td>\n",
       "    </tr>\n",
       "    <tr>\n",
       "      <th>1</th>\n",
       "      <td>2010-06-30</td>\n",
       "      <td>25.790001</td>\n",
       "      <td>30.42</td>\n",
       "      <td>23.299999</td>\n",
       "      <td>23.830000</td>\n",
       "      <td>17187100</td>\n",
       "      <td>23.830000</td>\n",
       "    </tr>\n",
       "    <tr>\n",
       "      <th>2</th>\n",
       "      <td>2010-07-01</td>\n",
       "      <td>25.000000</td>\n",
       "      <td>25.92</td>\n",
       "      <td>20.270000</td>\n",
       "      <td>21.959999</td>\n",
       "      <td>8218800</td>\n",
       "      <td>21.959999</td>\n",
       "    </tr>\n",
       "    <tr>\n",
       "      <th>3</th>\n",
       "      <td>2010-07-02</td>\n",
       "      <td>23.000000</td>\n",
       "      <td>23.10</td>\n",
       "      <td>18.709999</td>\n",
       "      <td>19.200001</td>\n",
       "      <td>5139800</td>\n",
       "      <td>19.200001</td>\n",
       "    </tr>\n",
       "    <tr>\n",
       "      <th>4</th>\n",
       "      <td>2010-07-06</td>\n",
       "      <td>20.000000</td>\n",
       "      <td>20.00</td>\n",
       "      <td>15.830000</td>\n",
       "      <td>16.110001</td>\n",
       "      <td>6866900</td>\n",
       "      <td>16.110001</td>\n",
       "    </tr>\n",
       "  </tbody>\n",
       "</table>\n",
       "</div>"
      ],
      "text/plain": [
       "         Date       Open   High        Low      Close    Volume  Adj Close\n",
       "0  2010-06-29  19.000000  25.00  17.540001  23.889999  18766300  23.889999\n",
       "1  2010-06-30  25.790001  30.42  23.299999  23.830000  17187100  23.830000\n",
       "2  2010-07-01  25.000000  25.92  20.270000  21.959999   8218800  21.959999\n",
       "3  2010-07-02  23.000000  23.10  18.709999  19.200001   5139800  19.200001\n",
       "4  2010-07-06  20.000000  20.00  15.830000  16.110001   6866900  16.110001"
      ]
     },
     "execution_count": 15,
     "metadata": {},
     "output_type": "execute_result"
    }
   ],
   "source": [
    "# Convert the 'Date' column to datetime format\n",
    "tesla_dat['Date'] = pd.to_datetime(tesla_dat['Date'], format='%m/%d/%Y')  # Adjust input format for Y/M/D for modularity\n",
    "\n",
    "# Format the 'Date' column to Y-M-D for modularity\n",
    "tesla_dat['Date'] = tesla_dat['Date'].dt.strftime('%Y-%m-%d')\n",
    "\n",
    "tesla_dat.head()"
   ]
  },
  {
   "cell_type": "markdown",
   "id": "c88781c0-498e-4d12-bc56-bb4a0b0f424b",
   "metadata": {},
   "source": [
    "handle missing values in next step"
   ]
  },
  {
   "cell_type": "code",
   "execution_count": null,
   "id": "b368da75-229a-4e8e-9a55-cb5b7c4a2534",
   "metadata": {},
   "outputs": [],
   "source": []
  }
 ],
 "metadata": {
  "kernelspec": {
   "display_name": "Python 3 (ipykernel)",
   "language": "python",
   "name": "python3"
  },
  "language_info": {
   "codemirror_mode": {
    "name": "ipython",
    "version": 3
   },
   "file_extension": ".py",
   "mimetype": "text/x-python",
   "name": "python",
   "nbconvert_exporter": "python",
   "pygments_lexer": "ipython3",
   "version": "3.8.10"
  }
 },
 "nbformat": 4,
 "nbformat_minor": 5
}
